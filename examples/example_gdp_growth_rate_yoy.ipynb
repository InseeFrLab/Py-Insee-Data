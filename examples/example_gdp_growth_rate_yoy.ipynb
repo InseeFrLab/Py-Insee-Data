{
 "metadata": {
  "language_info": {
   "codemirror_mode": {
    "name": "ipython",
    "version": 3
   },
   "file_extension": ".py",
   "mimetype": "text/x-python",
   "name": "python",
   "nbconvert_exporter": "python",
   "pygments_lexer": "ipython3",
   "version": "3.9.1-final"
  },
  "orig_nbformat": 2,
  "kernelspec": {
   "name": "python3",
   "display_name": "Python 3.9.1 64-bit",
   "metadata": {
    "interpreter": {
     "hash": "511ed2f4643ff7138ab497f13cc5b931fd8d0523c8006d9502e9dabd9ed620ad"
    }
   }
  }
 },
 "nbformat": 4,
 "nbformat_minor": 2,
 "cells": [
  {
   "cell_type": "code",
   "execution_count": null,
   "metadata": {},
   "outputs": [],
   "source": [
    "proxy_file_folder = 'C:/Users/eurhope/Desktop/insee_pylib/insee_pylib'\n",
    "proxy_file = proxy_file_folder + '/proxy.py'\n",
    "try:\n",
    "    f = open(proxy_file)\n",
    "    exec(f.read())\n",
    "except:\n",
    "    print(\"proxy not used\")\n",
    "\n",
    "import os\n",
    "os.environ['http'] = ''\n",
    "os.environ['https'] = ''\n",
    "# os.environ['insee_key'] = \"my_insee_key\"\n",
    "# os.environ['insee_secret'] = \"my_insee_secret_key\"\n",
    "\n",
    "from insee_macrodata import * \n",
    "import plotly.express as px\n",
    "from plotly.offline import download_plotlyjs, init_notebook_mode,  plot\n",
    "from plotly.graph_objs import *\n",
    "\n",
    "# get series key (idbank), for Gross domestic product balance\n",
    "id = get_idbank_list(\"CNT-2014-PIB-EQB-RF\")\n",
    "\n",
    "id = id.loc[(id.FREQ == \"T\") &\n",
    "            (id.OPERATION == \"PIB\") &\n",
    "            (id.NATURE == \"TAUX\") &\n",
    "            (id.CORRECTION == \"CVS-CJO\")]\n",
    "\n",
    "data = get_insee_idbank(id.idbank)\n",
    "\n",
    "# plot with plotly\n",
    "fig = px.bar(data, x = data.index, y = \"OBS_VALUE\",\n",
    "             facet_col = \"TITLE_EN\", facet_col_wrap=5)\n",
    "fig.update_yaxes(matches=None)\n",
    "plot(fig)\n",
    "\n",
    "\n"
   ]
  },
  {
   "cell_type": "code",
   "execution_count": null,
   "metadata": {},
   "outputs": [],
   "source": []
  }
 ]
}