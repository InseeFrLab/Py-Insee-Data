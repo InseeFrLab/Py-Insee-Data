{
 "metadata": {
  "language_info": {
   "codemirror_mode": {
    "name": "ipython",
    "version": 3
   },
   "file_extension": ".py",
   "mimetype": "text/x-python",
   "name": "python",
   "nbconvert_exporter": "python",
   "pygments_lexer": "ipython3",
   "version": "3.9.2-final"
  },
  "orig_nbformat": 2,
  "kernelspec": {
   "name": "python3",
   "display_name": "Python 3.9.2 64-bit",
   "metadata": {
    "interpreter": {
     "hash": "511ed2f4643ff7138ab497f13cc5b931fd8d0523c8006d9502e9dabd9ed620ad"
    }
   }
  }
 },
 "nbformat": 4,
 "nbformat_minor": 2,
 "cells": [
  {
   "cell_type": "code",
   "execution_count": 1,
   "metadata": {},
   "outputs": [
    {
     "output_type": "stream",
     "name": "stderr",
     "text": [
      "Getting datasets list: 100%|██████████| 214/214 [00:00<00:00, 461.27it/s]\n",
      "!!! Token missing, please check your keys on api.insee.fr\n",
      "SDMX web service used instead of API\n",
      "1/1 - Getting series: 100%|██████████| 1/1 [00:00<00:00,  1.54it/s]\n",
      "Data has been cached\n",
      "\n"
     ]
    },
    {
     "output_type": "execute_result",
     "data": {
      "text/plain": [
       "'temp-plot.html'"
      ]
     },
     "metadata": {},
     "execution_count": 1
    }
   ],
   "source": [
    "\n",
    "from pynsee import * \n",
    "import plotly.express as px\n",
    "from plotly.offline import plot\n",
    "\n",
    "import os \n",
    "# Beware : any change to the keys should be tested in a new python session\n",
    "os.environ['insee_key'] = \"my_insee_key\"\n",
    "os.environ['insee_secret'] = \"my_insee_secret\"\n",
    "\n",
    "# get series key (idbank), for Gross domestic product balance\n",
    "id = get_idbank_list(\"CNT-2014-PIB-EQB-RF\")\n",
    "\n",
    "id = id.loc[(id.FREQ == \"T\") &\n",
    "            (id.OPERATION == \"PIB\") &\n",
    "            (id.NATURE == \"TAUX\") &\n",
    "            (id.CORRECTION == \"CVS-CJO\")]\n",
    "\n",
    "data = get_insee_idbank(id.idbank)\n",
    "\n",
    "# plot with plotly\n",
    "fig = px.bar(data, x = data.index, y = \"OBS_VALUE\",\n",
    "             facet_col = \"TITLE_EN\", facet_col_wrap=5)\n",
    "fig.update_yaxes(matches=None)\n",
    "plot(fig)\n",
    "\n",
    "\n"
   ]
  },
  {
   "cell_type": "code",
   "execution_count": null,
   "metadata": {},
   "outputs": [],
   "source": []
  }
 ]
}