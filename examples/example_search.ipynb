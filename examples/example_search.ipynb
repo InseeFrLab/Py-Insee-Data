# -*- coding: utf-8 -*-

from insee_macrodata import search_insee 

search_all = search_insee()

search_paper = search_insee("pâte à papier")

search_paris = search_insee("PARIS")

search_survey_gdp = search_insee("Survey|GDP")
