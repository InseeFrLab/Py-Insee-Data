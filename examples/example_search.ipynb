{
 "metadata": {
  "language_info": {
   "codemirror_mode": {
    "name": "ipython",
    "version": 3
   },
   "file_extension": ".py",
   "mimetype": "text/x-python",
   "name": "python",
   "nbconvert_exporter": "python",
   "pygments_lexer": "ipython3",
   "version": "3.9.1-final"
  },
  "orig_nbformat": 2,
  "kernelspec": {
   "name": "python3",
   "display_name": "Python 3.9.1 64-bit",
   "metadata": {
    "interpreter": {
     "hash": "511ed2f4643ff7138ab497f13cc5b931fd8d0523c8006d9502e9dabd9ed620ad"
    }
   }
  }
 },
 "nbformat": 4,
 "nbformat_minor": 2,
 "cells": [
  {
   "cell_type": "code",
   "execution_count": 1,
   "metadata": {},
   "outputs": [],
   "source": [
    "from pynsee import search_insee \n",
    "\n",
    "search_all = search_insee()\n",
    "\n",
    "search_paper = search_insee(\"pâte à papier\")\n",
    "\n",
    "search_paris = search_insee(\"PARIS\")\n",
    "\n",
    "search_survey_gdp = search_insee(\"Survey|GDP\")\n"
   ]
  },
  {
   "cell_type": "code",
   "execution_count": null,
   "metadata": {},
   "outputs": [],
   "source": []
  }
 ]
}