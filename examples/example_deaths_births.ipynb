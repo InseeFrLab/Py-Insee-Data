{
 "metadata": {
  "language_info": {
   "codemirror_mode": {
    "name": "ipython",
    "version": 3
   },
   "file_extension": ".py",
   "mimetype": "text/x-python",
   "name": "python",
   "nbconvert_exporter": "python",
   "pygments_lexer": "ipython3",
   "version": "3.9.1-final"
  },
  "orig_nbformat": 2,
  "kernelspec": {
   "name": "python3",
   "display_name": "Python 3.9.1 64-bit",
   "metadata": {
    "interpreter": {
     "hash": "511ed2f4643ff7138ab497f13cc5b931fd8d0523c8006d9502e9dabd9ed620ad"
    }
   }
  }
 },
 "nbformat": 4,
 "nbformat_minor": 2,
 "cells": [
  {
   "cell_type": "code",
   "execution_count": null,
   "metadata": {},
   "outputs": [],
   "source": [
    "import pynsee as pie\n",
    "import numpy as np\n",
    "\n",
    "import plotly.express as px\n",
    "from plotly.offline import plot\n",
    "import os \n",
    "# Beware : any change to the keys should be tested in a new python session\n",
    "os.environ['insee_key'] = \"my_insee_key\"\n",
    "os.environ['insee_secret'] = \"my_insee_secret\"\n",
    "\n",
    "insee_data = pie.get_dataset_list()\n",
    "\n",
    "df_idbank = pie.get_idbank_list(\"DECES-MORTALITE\", \"NAISSANCES-FECONDITE\")\n",
    "\n",
    "df_idbank = df_idbank.loc[(df_idbank.FREQ == \"M\") & # monthly\n",
    "                          (df_idbank.REF_AREA == \"FM\") & # metropolitan France\n",
    "                          (df_idbank.DEMOGRAPHIE.isin([\"NAISS\",\"DECES\"]))] \n",
    "\n",
    "# get data\n",
    "data = pie.get_insee_idbank(df_idbank.idbank)\n",
    "\n",
    "data = pie.split_title(data)\n",
    "\n",
    "data['period'] = np.select([(data.index < '1975-01-01'),\n",
    "                            (data.index >= '1975-01-01') & (data.index < '2000-01-01'),\n",
    "                            (data.index >= '2000-01-01')],\n",
    "                            ['1946 - 1974', '1975 - 1999', '2000 - today'])\n",
    "\n",
    "\n",
    "fig = px.line(data, x = data.index, y = \"OBS_VALUE\", color = \"TITLE_EN2\",\n",
    "             facet_col = \"period\", facet_col_wrap = 1,\n",
    "             title=\"Deaths and Births in France since 1948\")\n",
    "fig.for_each_annotation(lambda a: a.update(text=a.text.split(\"=\")[1]))\n",
    "fig.update_xaxes(matches=None)\n",
    "fig.update_layout(\n",
    "   legend_title_text = '',\n",
    "   legend=dict(\n",
    "    orientation=\"h\",\n",
    "    yanchor=\"bottom\",\n",
    "    y=-0.1,\n",
    "    xanchor=\"left\",\n",
    "    x=0\n",
    "))\n",
    "plot(fig)\n",
    "\n"
   ]
  },
  {
   "cell_type": "code",
   "execution_count": null,
   "metadata": {},
   "outputs": [],
   "source": []
  }
 ]
}