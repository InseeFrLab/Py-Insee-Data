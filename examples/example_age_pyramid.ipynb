{
 "metadata": {
  "language_info": {
   "codemirror_mode": {
    "name": "ipython",
    "version": 3
   },
   "file_extension": ".py",
   "mimetype": "text/x-python",
   "name": "python",
   "nbconvert_exporter": "python",
   "pygments_lexer": "ipython3",
   "version": "3.9.2"
  },
  "orig_nbformat": 2,
  "kernelspec": {
   "name": "python3",
   "display_name": "Python 3.9.2 64-bit (windows store)",
   "metadata": {
    "interpreter": {
     "hash": "72c4a60a5f6fec152b3fb88356179dd83cdcb727ef22d8162980cca996fe2697"
    }
   }
  }
 },
 "nbformat": 4,
 "nbformat_minor": 2,
 "cells": [
  {
   "cell_type": "code",
   "execution_count": 1,
   "metadata": {},
   "outputs": [
    {
     "output_type": "stream",
     "name": "stdout",
     "text": [
      "!!! This function renders only package's internal data, it might not be the most up-to-date\n",
      "Have a look at api.insee.fr !!!\n",
      "Getting data:   0%|          | 0/1 [00:00<?, ?it/s]!!! This function is still at an early development stage,\n",
      "future changes are likely !!!\n",
      "Getting data: 100%|██████████| 1/1 [00:00<00:00,  1.10it/s]\n",
      "C:\\Users\\eurhope\\AppData\\Local\\Packages\\PythonSoftwareFoundation.Python.3.9_qbz5n2kfra8p0\\LocalCache\\local-packages\\Python39\\site-packages\\pandas\\core\\indexing.py:1676: SettingWithCopyWarning: \n",
      "A value is trying to be set on a copy of a slice from a DataFrame.\n",
      "Try using .loc[row_indexer,col_indexer] = value instead\n",
      "\n",
      "See the caveats in the documentation: https://pandas.pydata.org/pandas-docs/stable/user_guide/indexing.html#returning-a-view-versus-a-copy\n",
      "  self._setitem_single_column(ilocs[0], value, pi)\n"
     ]
    },
    {
     "output_type": "display_data",
     "data": {
      "application/vnd.plotly.v1+json": {
       "config": {
        "plotlyServerURL": "https://plot.ly"
       },
       "data": [
        {
         "name": "Male",
         "orientation": "h",
         "type": "bar",
         "x": [
          370769.614747,
          376787.666629,
          390035.741073,
          400538.721478,
          406912.576931,
          415565.529509,
          421007.902154,
          424016.2821,
          424874.726287,
          425349.859953,
          424962.234,
          421975.011116,
          420022.831065,
          419671.847579,
          422528.76519,
          424908.951356,
          426266.414893,
          423204.877206,
          424556.761962,
          406884.063963,
          392801.875609,
          380018.172654,
          374108.630598,
          374006.469539,
          371701.558454,
          373463.810488,
          378494.312707,
          382462.917448,
          384244.473319,
          388345.144243,
          390911.349298,
          389112.288557,
          395635.979867,
          400498.882492,
          407154.921481,
          409059.890097,
          409444.667964,
          409260.974357,
          403075.227688,
          403422.133554,
          403112.461184,
          413627.099398,
          424446.066224,
          439339.573304,
          446386.516128,
          450849.722598,
          450395.579161,
          443073.851021,
          438955.500872,
          440998.958558,
          442116.435901,
          443156.495663,
          440157.302054,
          436015.415939,
          432364.244258,
          425936.485828,
          419239.048694,
          415293.792566,
          408811.996067,
          403525.228789,
          397674.107846,
          390580.502664,
          389726.205107,
          385593.821964,
          381816.841864,
          379753.743587,
          377482.202061,
          376866.093606,
          369212.287399,
          344751.067362,
          314472.905827,
          288387.471953,
          259013.490145,
          228758.485216,
          217040.339509,
          206238.652703,
          196484.064159,
          190438.698903,
          185538.185837,
          178657.849134,
          170416.984449,
          161240.313083,
          151376.253279,
          140984.115645,
          129568.821515,
          116694.164913,
          104401.247075,
          90442.246893,
          76437.07157,
          64561.785619,
          52903.044089,
          42563.59535,
          34030.284135,
          26251.124903,
          20109.586193,
          13464.144169,
          8709.604433,
          5238.714742,
          3003.72871,
          1703.896204,
          3999.948597
         ],
         "y": [
          "Moins d'un an",
          "1 an",
          "2 ans",
          "3 ans",
          "4 ans",
          "5 ans",
          "6 ans",
          "7 ans",
          "8 ans",
          "9 ans",
          "10 ans",
          "11 ans",
          "12 ans",
          "13 ans",
          "14 ans",
          "15 ans",
          "16 ans",
          "17 ans",
          "18 ans",
          "19 ans",
          "20 ans",
          "21 ans",
          "22 ans",
          "23 ans",
          "24 ans",
          "25 ans",
          "26 ans",
          "27 ans",
          "28 ans",
          "29 ans",
          "30 ans",
          "31 ans",
          "32 ans",
          "33 ans",
          "34 ans",
          "35 ans",
          "36 ans",
          "37 ans",
          "38 ans",
          "39 ans",
          "40 ans",
          "41 ans",
          "42 ans",
          "43 ans",
          "44 ans",
          "45 ans",
          "46 ans",
          "47 ans",
          "48 ans",
          "49 ans",
          "50 ans",
          "51 ans",
          "52 ans",
          "53 ans",
          "54 ans",
          "55 ans",
          "56 ans",
          "57 ans",
          "58 ans",
          "59 ans",
          "60 ans",
          "61 ans",
          "62 ans",
          "63 ans",
          "64 ans",
          "65 ans",
          "66 ans",
          "67 ans",
          "68 ans",
          "69 ans",
          "70 ans",
          "71 ans",
          "72 ans",
          "73 ans",
          "74 ans",
          "75 ans",
          "76 ans",
          "77 ans",
          "78 ans",
          "79 ans",
          "80 ans",
          "81 ans",
          "82 ans",
          "83 ans",
          "84 ans",
          "85 ans",
          "86 ans",
          "87 ans",
          "88 ans",
          "89 ans",
          "90 ans",
          "91 ans",
          "92 ans",
          "93 ans",
          "94 ans",
          "95 ans",
          "96 ans",
          "97 ans",
          "98 ans",
          "99 ans",
          "100 ans ou plus"
         ]
        },
        {
         "name": "Female",
         "orientation": "h",
         "type": "bar",
         "x": [
          -354131.488014,
          -362169.56739,
          -373558.347557,
          -382437.04735,
          -392278.734731,
          -398483.160648,
          -401359.781551,
          -404868.416728,
          -406684.170388,
          -405461.428755,
          -405700.561199,
          -404015.851853,
          -402250.023599,
          -401589.757021,
          -404708.615888,
          -403582.641016,
          -403905.097673,
          -401416.084661,
          -399822.276837,
          -385283.854004,
          -374128.425266,
          -366433.120775,
          -367584.163534,
          -366745.831469,
          -373039.122068,
          -377408.292942,
          -385162.469938,
          -392028.370755,
          -399775.278535,
          -405282.317449,
          -409809.358563,
          -410151.120508,
          -416031.562172,
          -421525.975293,
          -425681.037046,
          -426720.316123,
          -427670.236964,
          -423756.421488,
          -416056.210839,
          -413150.662828,
          -413939.727582,
          -421708.877901,
          -434926.247869,
          -446768.680425,
          -455847.224374,
          -459213.437379,
          -458345.100546,
          -452542.250283,
          -453106.778646,
          -454376.773899,
          -455627.475907,
          -459100.14979,
          -457235.683053,
          -454723.369791,
          -452119.523688,
          -448338.077633,
          -442220.341467,
          -441388.841369,
          -437466.934256,
          -434866.34601,
          -431841.769755,
          -428232.182089,
          -425302.367238,
          -421396.888345,
          -422548.67415,
          -420933.6117,
          -420938.474544,
          -416627.076045,
          -409181.869632,
          -386581.775965,
          -356531.780281,
          -329588.969029,
          -300768.825679,
          -268406.630434,
          -257864.352343,
          -251871.224933,
          -245099.057549,
          -241150.198496,
          -243894.73075,
          -243014.662402,
          -239164.125541,
          -232798.595451,
          -228853.259324,
          -221130.629377,
          -213243.178121,
          -203606.961063,
          -189123.159146,
          -173255.533762,
          -157193.901329,
          -139709.483298,
          -122982.555498,
          -106426.835428,
          -90759.917167,
          -76227.393091,
          -62038.229774,
          -46165.868625,
          -31907.006079,
          -21062.538221,
          -12800.364148,
          -7722.604248,
          -18229.17044
         ],
         "y": [
          "Moins d'un an",
          "1 an",
          "2 ans",
          "3 ans",
          "4 ans",
          "5 ans",
          "6 ans",
          "7 ans",
          "8 ans",
          "9 ans",
          "10 ans",
          "11 ans",
          "12 ans",
          "13 ans",
          "14 ans",
          "15 ans",
          "16 ans",
          "17 ans",
          "18 ans",
          "19 ans",
          "20 ans",
          "21 ans",
          "22 ans",
          "23 ans",
          "24 ans",
          "25 ans",
          "26 ans",
          "27 ans",
          "28 ans",
          "29 ans",
          "30 ans",
          "31 ans",
          "32 ans",
          "33 ans",
          "34 ans",
          "35 ans",
          "36 ans",
          "37 ans",
          "38 ans",
          "39 ans",
          "40 ans",
          "41 ans",
          "42 ans",
          "43 ans",
          "44 ans",
          "45 ans",
          "46 ans",
          "47 ans",
          "48 ans",
          "49 ans",
          "50 ans",
          "51 ans",
          "52 ans",
          "53 ans",
          "54 ans",
          "55 ans",
          "56 ans",
          "57 ans",
          "58 ans",
          "59 ans",
          "60 ans",
          "61 ans",
          "62 ans",
          "63 ans",
          "64 ans",
          "65 ans",
          "66 ans",
          "67 ans",
          "68 ans",
          "69 ans",
          "70 ans",
          "71 ans",
          "72 ans",
          "73 ans",
          "74 ans",
          "75 ans",
          "76 ans",
          "77 ans",
          "78 ans",
          "79 ans",
          "80 ans",
          "81 ans",
          "82 ans",
          "83 ans",
          "84 ans",
          "85 ans",
          "86 ans",
          "87 ans",
          "88 ans",
          "89 ans",
          "90 ans",
          "91 ans",
          "92 ans",
          "93 ans",
          "94 ans",
          "95 ans",
          "96 ans",
          "97 ans",
          "98 ans",
          "99 ans",
          "100 ans ou plus"
         ]
        }
       ],
       "layout": {
        "bargap": 0,
        "bargroupgap": 0,
        "barmode": "relative",
        "template": {
         "data": {
          "bar": [
           {
            "error_x": {
             "color": "#2a3f5f"
            },
            "error_y": {
             "color": "#2a3f5f"
            },
            "marker": {
             "line": {
              "color": "#E5ECF6",
              "width": 0.5
             }
            },
            "type": "bar"
           }
          ],
          "barpolar": [
           {
            "marker": {
             "line": {
              "color": "#E5ECF6",
              "width": 0.5
             }
            },
            "type": "barpolar"
           }
          ],
          "carpet": [
           {
            "aaxis": {
             "endlinecolor": "#2a3f5f",
             "gridcolor": "white",
             "linecolor": "white",
             "minorgridcolor": "white",
             "startlinecolor": "#2a3f5f"
            },
            "baxis": {
             "endlinecolor": "#2a3f5f",
             "gridcolor": "white",
             "linecolor": "white",
             "minorgridcolor": "white",
             "startlinecolor": "#2a3f5f"
            },
            "type": "carpet"
           }
          ],
          "choropleth": [
           {
            "colorbar": {
             "outlinewidth": 0,
             "ticks": ""
            },
            "type": "choropleth"
           }
          ],
          "contour": [
           {
            "colorbar": {
             "outlinewidth": 0,
             "ticks": ""
            },
            "colorscale": [
             [
              0,
              "#0d0887"
             ],
             [
              0.1111111111111111,
              "#46039f"
             ],
             [
              0.2222222222222222,
              "#7201a8"
             ],
             [
              0.3333333333333333,
              "#9c179e"
             ],
             [
              0.4444444444444444,
              "#bd3786"
             ],
             [
              0.5555555555555556,
              "#d8576b"
             ],
             [
              0.6666666666666666,
              "#ed7953"
             ],
             [
              0.7777777777777778,
              "#fb9f3a"
             ],
             [
              0.8888888888888888,
              "#fdca26"
             ],
             [
              1,
              "#f0f921"
             ]
            ],
            "type": "contour"
           }
          ],
          "contourcarpet": [
           {
            "colorbar": {
             "outlinewidth": 0,
             "ticks": ""
            },
            "type": "contourcarpet"
           }
          ],
          "heatmap": [
           {
            "colorbar": {
             "outlinewidth": 0,
             "ticks": ""
            },
            "colorscale": [
             [
              0,
              "#0d0887"
             ],
             [
              0.1111111111111111,
              "#46039f"
             ],
             [
              0.2222222222222222,
              "#7201a8"
             ],
             [
              0.3333333333333333,
              "#9c179e"
             ],
             [
              0.4444444444444444,
              "#bd3786"
             ],
             [
              0.5555555555555556,
              "#d8576b"
             ],
             [
              0.6666666666666666,
              "#ed7953"
             ],
             [
              0.7777777777777778,
              "#fb9f3a"
             ],
             [
              0.8888888888888888,
              "#fdca26"
             ],
             [
              1,
              "#f0f921"
             ]
            ],
            "type": "heatmap"
           }
          ],
          "heatmapgl": [
           {
            "colorbar": {
             "outlinewidth": 0,
             "ticks": ""
            },
            "colorscale": [
             [
              0,
              "#0d0887"
             ],
             [
              0.1111111111111111,
              "#46039f"
             ],
             [
              0.2222222222222222,
              "#7201a8"
             ],
             [
              0.3333333333333333,
              "#9c179e"
             ],
             [
              0.4444444444444444,
              "#bd3786"
             ],
             [
              0.5555555555555556,
              "#d8576b"
             ],
             [
              0.6666666666666666,
              "#ed7953"
             ],
             [
              0.7777777777777778,
              "#fb9f3a"
             ],
             [
              0.8888888888888888,
              "#fdca26"
             ],
             [
              1,
              "#f0f921"
             ]
            ],
            "type": "heatmapgl"
           }
          ],
          "histogram": [
           {
            "marker": {
             "colorbar": {
              "outlinewidth": 0,
              "ticks": ""
             }
            },
            "type": "histogram"
           }
          ],
          "histogram2d": [
           {
            "colorbar": {
             "outlinewidth": 0,
             "ticks": ""
            },
            "colorscale": [
             [
              0,
              "#0d0887"
             ],
             [
              0.1111111111111111,
              "#46039f"
             ],
             [
              0.2222222222222222,
              "#7201a8"
             ],
             [
              0.3333333333333333,
              "#9c179e"
             ],
             [
              0.4444444444444444,
              "#bd3786"
             ],
             [
              0.5555555555555556,
              "#d8576b"
             ],
             [
              0.6666666666666666,
              "#ed7953"
             ],
             [
              0.7777777777777778,
              "#fb9f3a"
             ],
             [
              0.8888888888888888,
              "#fdca26"
             ],
             [
              1,
              "#f0f921"
             ]
            ],
            "type": "histogram2d"
           }
          ],
          "histogram2dcontour": [
           {
            "colorbar": {
             "outlinewidth": 0,
             "ticks": ""
            },
            "colorscale": [
             [
              0,
              "#0d0887"
             ],
             [
              0.1111111111111111,
              "#46039f"
             ],
             [
              0.2222222222222222,
              "#7201a8"
             ],
             [
              0.3333333333333333,
              "#9c179e"
             ],
             [
              0.4444444444444444,
              "#bd3786"
             ],
             [
              0.5555555555555556,
              "#d8576b"
             ],
             [
              0.6666666666666666,
              "#ed7953"
             ],
             [
              0.7777777777777778,
              "#fb9f3a"
             ],
             [
              0.8888888888888888,
              "#fdca26"
             ],
             [
              1,
              "#f0f921"
             ]
            ],
            "type": "histogram2dcontour"
           }
          ],
          "mesh3d": [
           {
            "colorbar": {
             "outlinewidth": 0,
             "ticks": ""
            },
            "type": "mesh3d"
           }
          ],
          "parcoords": [
           {
            "line": {
             "colorbar": {
              "outlinewidth": 0,
              "ticks": ""
             }
            },
            "type": "parcoords"
           }
          ],
          "pie": [
           {
            "automargin": true,
            "type": "pie"
           }
          ],
          "scatter": [
           {
            "marker": {
             "colorbar": {
              "outlinewidth": 0,
              "ticks": ""
             }
            },
            "type": "scatter"
           }
          ],
          "scatter3d": [
           {
            "line": {
             "colorbar": {
              "outlinewidth": 0,
              "ticks": ""
             }
            },
            "marker": {
             "colorbar": {
              "outlinewidth": 0,
              "ticks": ""
             }
            },
            "type": "scatter3d"
           }
          ],
          "scattercarpet": [
           {
            "marker": {
             "colorbar": {
              "outlinewidth": 0,
              "ticks": ""
             }
            },
            "type": "scattercarpet"
           }
          ],
          "scattergeo": [
           {
            "marker": {
             "colorbar": {
              "outlinewidth": 0,
              "ticks": ""
             }
            },
            "type": "scattergeo"
           }
          ],
          "scattergl": [
           {
            "marker": {
             "colorbar": {
              "outlinewidth": 0,
              "ticks": ""
             }
            },
            "type": "scattergl"
           }
          ],
          "scattermapbox": [
           {
            "marker": {
             "colorbar": {
              "outlinewidth": 0,
              "ticks": ""
             }
            },
            "type": "scattermapbox"
           }
          ],
          "scatterpolar": [
           {
            "marker": {
             "colorbar": {
              "outlinewidth": 0,
              "ticks": ""
             }
            },
            "type": "scatterpolar"
           }
          ],
          "scatterpolargl": [
           {
            "marker": {
             "colorbar": {
              "outlinewidth": 0,
              "ticks": ""
             }
            },
            "type": "scatterpolargl"
           }
          ],
          "scatterternary": [
           {
            "marker": {
             "colorbar": {
              "outlinewidth": 0,
              "ticks": ""
             }
            },
            "type": "scatterternary"
           }
          ],
          "surface": [
           {
            "colorbar": {
             "outlinewidth": 0,
             "ticks": ""
            },
            "colorscale": [
             [
              0,
              "#0d0887"
             ],
             [
              0.1111111111111111,
              "#46039f"
             ],
             [
              0.2222222222222222,
              "#7201a8"
             ],
             [
              0.3333333333333333,
              "#9c179e"
             ],
             [
              0.4444444444444444,
              "#bd3786"
             ],
             [
              0.5555555555555556,
              "#d8576b"
             ],
             [
              0.6666666666666666,
              "#ed7953"
             ],
             [
              0.7777777777777778,
              "#fb9f3a"
             ],
             [
              0.8888888888888888,
              "#fdca26"
             ],
             [
              1,
              "#f0f921"
             ]
            ],
            "type": "surface"
           }
          ],
          "table": [
           {
            "cells": {
             "fill": {
              "color": "#EBF0F8"
             },
             "line": {
              "color": "white"
             }
            },
            "header": {
             "fill": {
              "color": "#C8D4E3"
             },
             "line": {
              "color": "white"
             }
            },
            "type": "table"
           }
          ]
         },
         "layout": {
          "annotationdefaults": {
           "arrowcolor": "#2a3f5f",
           "arrowhead": 0,
           "arrowwidth": 1
          },
          "autotypenumbers": "strict",
          "coloraxis": {
           "colorbar": {
            "outlinewidth": 0,
            "ticks": ""
           }
          },
          "colorscale": {
           "diverging": [
            [
             0,
             "#8e0152"
            ],
            [
             0.1,
             "#c51b7d"
            ],
            [
             0.2,
             "#de77ae"
            ],
            [
             0.3,
             "#f1b6da"
            ],
            [
             0.4,
             "#fde0ef"
            ],
            [
             0.5,
             "#f7f7f7"
            ],
            [
             0.6,
             "#e6f5d0"
            ],
            [
             0.7,
             "#b8e186"
            ],
            [
             0.8,
             "#7fbc41"
            ],
            [
             0.9,
             "#4d9221"
            ],
            [
             1,
             "#276419"
            ]
           ],
           "sequential": [
            [
             0,
             "#0d0887"
            ],
            [
             0.1111111111111111,
             "#46039f"
            ],
            [
             0.2222222222222222,
             "#7201a8"
            ],
            [
             0.3333333333333333,
             "#9c179e"
            ],
            [
             0.4444444444444444,
             "#bd3786"
            ],
            [
             0.5555555555555556,
             "#d8576b"
            ],
            [
             0.6666666666666666,
             "#ed7953"
            ],
            [
             0.7777777777777778,
             "#fb9f3a"
            ],
            [
             0.8888888888888888,
             "#fdca26"
            ],
            [
             1,
             "#f0f921"
            ]
           ],
           "sequentialminus": [
            [
             0,
             "#0d0887"
            ],
            [
             0.1111111111111111,
             "#46039f"
            ],
            [
             0.2222222222222222,
             "#7201a8"
            ],
            [
             0.3333333333333333,
             "#9c179e"
            ],
            [
             0.4444444444444444,
             "#bd3786"
            ],
            [
             0.5555555555555556,
             "#d8576b"
            ],
            [
             0.6666666666666666,
             "#ed7953"
            ],
            [
             0.7777777777777778,
             "#fb9f3a"
            ],
            [
             0.8888888888888888,
             "#fdca26"
            ],
            [
             1,
             "#f0f921"
            ]
           ]
          },
          "colorway": [
           "#636efa",
           "#EF553B",
           "#00cc96",
           "#ab63fa",
           "#FFA15A",
           "#19d3f3",
           "#FF6692",
           "#B6E880",
           "#FF97FF",
           "#FECB52"
          ],
          "font": {
           "color": "#2a3f5f"
          },
          "geo": {
           "bgcolor": "white",
           "lakecolor": "white",
           "landcolor": "#E5ECF6",
           "showlakes": true,
           "showland": true,
           "subunitcolor": "white"
          },
          "hoverlabel": {
           "align": "left"
          },
          "hovermode": "closest",
          "mapbox": {
           "style": "light"
          },
          "paper_bgcolor": "white",
          "plot_bgcolor": "#E5ECF6",
          "polar": {
           "angularaxis": {
            "gridcolor": "white",
            "linecolor": "white",
            "ticks": ""
           },
           "bgcolor": "#E5ECF6",
           "radialaxis": {
            "gridcolor": "white",
            "linecolor": "white",
            "ticks": ""
           }
          },
          "scene": {
           "xaxis": {
            "backgroundcolor": "#E5ECF6",
            "gridcolor": "white",
            "gridwidth": 2,
            "linecolor": "white",
            "showbackground": true,
            "ticks": "",
            "zerolinecolor": "white"
           },
           "yaxis": {
            "backgroundcolor": "#E5ECF6",
            "gridcolor": "white",
            "gridwidth": 2,
            "linecolor": "white",
            "showbackground": true,
            "ticks": "",
            "zerolinecolor": "white"
           },
           "zaxis": {
            "backgroundcolor": "#E5ECF6",
            "gridcolor": "white",
            "gridwidth": 2,
            "linecolor": "white",
            "showbackground": true,
            "ticks": "",
            "zerolinecolor": "white"
           }
          },
          "shapedefaults": {
           "line": {
            "color": "#2a3f5f"
           }
          },
          "ternary": {
           "aaxis": {
            "gridcolor": "white",
            "linecolor": "white",
            "ticks": ""
           },
           "baxis": {
            "gridcolor": "white",
            "linecolor": "white",
            "ticks": ""
           },
           "bgcolor": "#E5ECF6",
           "caxis": {
            "gridcolor": "white",
            "linecolor": "white",
            "ticks": ""
           }
          },
          "title": {
           "x": 0.05
          },
          "xaxis": {
           "automargin": true,
           "gridcolor": "white",
           "linecolor": "white",
           "ticks": "",
           "title": {
            "standoff": 15
           },
           "zerolinecolor": "white",
           "zerolinewidth": 2
          },
          "yaxis": {
           "automargin": true,
           "gridcolor": "white",
           "linecolor": "white",
           "ticks": "",
           "title": {
            "standoff": 15
           },
           "zerolinecolor": "white",
           "zerolinewidth": 2
          }
         }
        },
        "title": {
         "font": {
          "size": 22
         },
         "text": "Population Pyramid of France in 2017"
        },
        "xaxis": {
         "ticktext": [
          "400",
          "300",
          "200",
          "100",
          "0",
          "100",
          "200",
          "300",
          "400"
         ],
         "tickvals": [
          -400000,
          -300000,
          -200000,
          -100000,
          0,
          100000,
          200000,
          300000,
          400000
         ],
         "title": {
          "font": {
           "size": 14
          },
          "text": "Population in thousands"
         }
        }
       }
      }
     },
     "metadata": {}
    }
   ],
   "source": [
    "import os\n",
    "os.environ['insee_key'] = \"my_key\"\n",
    "os.environ['insee_secret'] = \"my_secret_key\"\n",
    "\n",
    "from pynsee.local import *\n",
    "\n",
    "import pandas as pd\n",
    "import plotly.graph_objects as gp\n",
    "\n",
    "metadata = get_local_metadata()\n",
    "\n",
    "data = get_insee_local(dataset_version='GEO2020RP2017',\n",
    "                       variables = 'SEXE-AGED100',\n",
    "                       nivgeo = 'FE',\n",
    "                       geocodes=['1'])\n",
    "\n",
    "dataM = data[(data.SEXE == '1') & (data.AGED100 != 'ENS')]\n",
    "dataF = data[(data.SEXE == '2') & (data.AGED100 != 'ENS')]\n",
    "dataF.loc[:, 'OBS_VALUE'] = dataF['OBS_VALUE'] * -1\n",
    "\n",
    "#figure\n",
    "fig = gp.Figure()\n",
    "  \n",
    "# Adding Male data to the figure\n",
    "fig.add_trace(gp.Bar(y= dataM.AGED100_label, x = dataM.OBS_VALUE, \n",
    "                     name = 'Male', \n",
    "                     orientation = 'h'))\n",
    "  \n",
    "# Adding Female data to the figure\n",
    "fig.add_trace(gp.Bar(y = dataM.AGED100_label, x = dataF.OBS_VALUE,\n",
    "                     name = 'Female', orientation = 'h'))\n",
    "\n",
    "# Updating the layout for our graph\n",
    "fig.update_layout(title = 'Population Pyramid of France in 2017',\n",
    "                 title_font_size = 22, barmode = 'relative',\n",
    "                 bargap = 0.0, bargroupgap = 0,\n",
    "                   xaxis = dict(tickvals = [-400000, -300000, -200000, -100000, \n",
    "                                          0, 100000, 200000, 300000, 400000],\n",
    "                                \n",
    "                              ticktext = ['400', '300', '200', '100', '0',\n",
    "                                          '100', '200', '300', '400'],\n",
    "                                \n",
    "                              title = 'Population in thousands',\n",
    "                              title_font_size = 14))\n",
    "\n",
    "fig.write_html(\"ex_population_pyramid.html\")\n",
    "fig.show()"
   ]
  }
 ]
}