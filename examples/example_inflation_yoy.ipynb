{
 "metadata": {
  "language_info": {
   "codemirror_mode": {
    "name": "ipython",
    "version": 3
   },
   "file_extension": ".py",
   "mimetype": "text/x-python",
   "name": "python",
   "nbconvert_exporter": "python",
   "pygments_lexer": "ipython3",
   "version": "3.9.1-final"
  },
  "orig_nbformat": 2,
  "kernelspec": {
   "name": "python3",
   "display_name": "Python 3.9.1 64-bit",
   "metadata": {
    "interpreter": {
     "hash": "511ed2f4643ff7138ab497f13cc5b931fd8d0523c8006d9502e9dabd9ed620ad"
    }
   }
  }
 },
 "nbformat": 4,
 "nbformat_minor": 2,
 "cells": [
  {
   "cell_type": "code",
   "execution_count": 1,
   "metadata": {},
   "outputs": [
    {
     "output_type": "stream",
     "name": "stderr",
     "text": [
      "Getting datasets list: 100%|██████████| 214/214 [00:00<00:00, 275.59it/s]\n",
      "!!! Token missing, please check your keys on api.insee.fr\n",
      "\n",
      "SDMX web service used instead of API\n",
      "1/1 - Getting series: 100%|██████████| 13/13 [00:09<00:00,  1.37it/s]\n",
      "Data has been cached\n",
      "\n"
     ]
    },
    {
     "output_type": "execute_result",
     "data": {
      "text/plain": [
       "'temp-plot.html'"
      ]
     },
     "metadata": {},
     "execution_count": 1
    }
   ],
   "source": [
    "from insee_macrodata import * \n",
    "import plotly.express as px\n",
    "from plotly.offline import download_plotlyjs, init_notebook_mode,  plot\n",
    "from plotly.graph_objs import *\n",
    "\n",
    "import os \n",
    "# Beware : any change to the keys should be test in a new python session\n",
    "os.environ['insee_key'] = \"my_insee_key\"\n",
    "os.environ['insee_secret'] = \"my_insee_secret\"\n",
    "\n",
    "df_idbank = get_idbank_list(\"IPC-2015\")\n",
    "\n",
    "df_idbank = df_idbank.loc[(df_idbank.FREQ == \"M\") & # monthly\n",
    "                          (df_idbank.NATURE == \"INDICE\") & # index\n",
    "                          (df_idbank.MENAGES_IPC == \"ENSEMBLE\") & # all kinds of household\n",
    "                          (df_idbank.REF_AREA == \"FE\") & # all France including overseas departements\n",
    "                          (df_idbank.COICOP2016.str.match(\"^[0-9]{2}$\"))] # coicop aggregation level\n",
    "\n",
    "# get data\n",
    "data = get_insee_idbank(df_idbank.idbank)\n",
    "\n",
    "# split title\n",
    "df = split_title(data)\n",
    "\n",
    "# replace title when missing and shorten it\n",
    "rows = df[\"TITLE_EN6\"].isnull()\n",
    "df.loc[rows, \"TITLE_EN6\"] = df.loc[rows, \"TITLE_EN5\"]\n",
    "df[\"TITLE_EN6\"] = df[\"TITLE_EN6\"].str[:22]\n",
    "\n",
    "# compute year over year growth rate by IDBANK\n",
    "df['pct_yoy'] = (df.OBS_VALUE/ df.groupby(['IDBANK']).OBS_VALUE.shift(12) - 1) * 100\n",
    "\n",
    "# select dates after 2018-01-01\n",
    "df = df.iloc[df.index >= \"2018-01-01\"]\n",
    "\n",
    "# plot\n",
    "fig = px.bar(df, x = df.index, y = \"pct_yoy\", color = \"TITLE_EN6\",\n",
    "             facet_col = \"TITLE_EN6\", facet_col_wrap = 5)\n",
    "fig.for_each_annotation(lambda a: a.update(text=a.text.split(\"=\")[1]))\n",
    "# fig.update_yaxes(matches=None)\n",
    "fig.update_layout(showlegend=False)\n",
    "plot(fig)"
   ]
  },
  {
   "cell_type": "code",
   "execution_count": null,
   "metadata": {},
   "outputs": [],
   "source": []
  }
 ]
}