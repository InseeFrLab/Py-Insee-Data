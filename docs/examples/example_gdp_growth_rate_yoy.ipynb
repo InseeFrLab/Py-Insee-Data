{
 "cells": [
  {
   "cell_type": "markdown",
   "id": "53366442",
   "metadata": {},
   "source": [
    "\n",
    "# GDP growth rate"
   ]
  },
  {
   "cell_type": "code",
   "execution_count": 1,
   "id": "df2f1090",
   "metadata": {
    "execution": {
     "iopub.execute_input": "2021-07-12T14:26:41.943807Z",
     "iopub.status.busy": "2021-07-12T14:26:41.943099Z",
     "iopub.status.idle": "2021-07-12T14:26:44.965752Z",
     "shell.execute_reply": "2021-07-12T14:26:44.966738Z"
    }
   },
   "outputs": [
    {
     "name": "stdout",
     "output_type": "stream",
     "text": [
      "!!! Token missing, please check your credentials on api.insee.fr !!!\n",
      "!!! Please do the following to use your credentials : \n",
      "\n",
      "import os\n",
      "os.environ['insee_key'] = 'my_key'\n",
      "os.environ['insee_secret'] = 'my_secret_key'\n",
      "\n",
      "!!! Advice : add the above-mentioned lines to 'pynsee_api_credentials.py' file in your HOME directory to avoid running them manually !!!\n",
      "!!! If your token still does not work, please try to clear the cache :\n",
      " from pynsee.utils import *; clear_all_cache() !!!\n",
      "\n",
      "SDMX web service used instead of API\n"
     ]
    },
    {
     "name": "stderr",
     "output_type": "stream",
     "text": [
      "\r",
      "Getting datasets list:   0%|                                                                                                                                           | 0/214 [00:00<?, ?it/s]"
     ]
    },
    {
     "name": "stderr",
     "output_type": "stream",
     "text": [
      "\r",
      "Getting datasets list:  64%|█████████████████████████████████████████████████████████████████████████████████▎                                             | 137/214 [00:00<00:00, 1360.55it/s]"
     ]
    },
    {
     "name": "stderr",
     "output_type": "stream",
     "text": [
      "\r",
      "Getting datasets list: 100%|███████████████████████████████████████████████████████████████████████████████████████████████████████████████████████████████| 214/214 [00:00<00:00, 1345.20it/s]"
     ]
    },
    {
     "name": "stderr",
     "output_type": "stream",
     "text": [
      "\n"
     ]
    },
    {
     "name": "stdout",
     "output_type": "stream",
     "text": [
      "CNT-2014-PIB-EQB-RF : metadata update triggered because it is not found locally\n",
      "!!! Token missing, please check your credentials on api.insee.fr !!!\n",
      "!!! Please do the following to use your credentials : \n",
      "\n",
      "import os\n",
      "os.environ['insee_key'] = 'my_key'\n",
      "os.environ['insee_secret'] = 'my_secret_key'\n",
      "\n",
      "!!! Advice : add the above-mentioned lines to 'pynsee_api_credentials.py' file in your HOME directory to avoid running them manually !!!\n",
      "!!! If your token still does not work, please try to clear the cache :\n",
      " from pynsee.utils import *; clear_all_cache() !!!\n",
      "\n",
      "SDMX web service used instead of API\n"
     ]
    },
    {
     "name": "stdout",
     "output_type": "stream",
     "text": [
      "!!! Token missing, please check your credentials on api.insee.fr !!!\n",
      "!!! Please do the following to use your credentials : \n",
      "\n",
      "import os\n",
      "os.environ['insee_key'] = 'my_key'\n",
      "os.environ['insee_secret'] = 'my_secret_key'\n",
      "\n",
      "!!! Advice : add the above-mentioned lines to 'pynsee_api_credentials.py' file in your HOME directory to avoid running them manually !!!\n",
      "!!! If your token still does not work, please try to clear the cache :\n",
      " from pynsee.utils import *; clear_all_cache() !!!\n",
      "\n",
      "SDMX web service used instead of API\n"
     ]
    },
    {
     "name": "stderr",
     "output_type": "stream",
     "text": [
      "\r",
      "1/1 - Getting series:   0%|                                                                                                                                              | 0/1 [00:00<?, ?it/s]"
     ]
    },
    {
     "name": "stderr",
     "output_type": "stream",
     "text": [
      "\r",
      "1/1 - Getting series: 100%|██████████████████████████████████████████████████████████████████████████████████████████████████████████████████████████████████████| 1/1 [00:00<00:00,  4.38it/s]"
     ]
    },
    {
     "name": "stderr",
     "output_type": "stream",
     "text": [
      "\r",
      "1/1 - Getting series: 100%|██████████████████████████████████████████████████████████████████████████████████████████████████████████████████████████████████████| 1/1 [00:00<00:00,  4.35it/s]"
     ]
    },
    {
     "name": "stderr",
     "output_type": "stream",
     "text": [
      "\n"
     ]
    },
    {
     "name": "stdout",
     "output_type": "stream",
     "text": [
      "\n",
      "Data has been cached\n",
      "\n"
     ]
    },
    {
     "data": {
      "image/png": "[encoded data removed]",
      "text/plain": [
       "<Figure size 1080x360 with 1 Axes>"
      ]
     },
     "metadata": {
      "needs_background": "light"
     },
     "output_type": "display_data"
    }
   ],
   "source": [
    "from pynsee.macrodata import * \n",
    "\n",
    "import pandas as pd\n",
    "import matplotlib.ticker as ticker\n",
    "#%matplotlib inline\n",
    "import matplotlib.pyplot as plt\n",
    "\n",
    "# Subscribe to api.insee.fr and get your credentials!\n",
    "# Beware : any change to the keys should be tested after having cleared the cache\n",
    "# Please do : from pynsee.utils import *; clear_all_cache()\n",
    "# Advice : add the following lines to 'pynsee_api_credentials.py' file in your HOME directory\n",
    "# to avoid running them manually\n",
    "import os\n",
    "os.environ['insee_key'] = \"my_key\"\n",
    "os.environ['insee_secret'] = \"my_secret_key\"\n",
    "\n",
    "# get series key (idbank), for Gross domestic product balance\n",
    "id = get_series_list(\"CNT-2014-PIB-EQB-RF\")\n",
    "\n",
    "id = id.loc[(id.FREQ == \"T\") &\n",
    "            (id.OPERATION == \"PIB\") &\n",
    "            (id.NATURE == \"TAUX\") &\n",
    "            (id.CORRECTION == \"CVS-CJO\")]\n",
    "\n",
    "data = get_series(id.IDBANK)\n",
    "data = split_title(df = data, n_split=2)\n",
    "\n",
    "# define plot\n",
    "ax = data.plot(kind='bar', x=\"TIME_PERIOD\", stacked=True, y=\"OBS_VALUE\", figsize=(15,5))\n",
    "#add title\n",
    "plt.title(\"French GDP growth rate, quarter-on-quarter, sa-wda\")\n",
    "# customize x-axis tickers\n",
    "ticklabels = ['']*len(data.TIME_PERIOD)\n",
    "ticklabels[::12] = [item for item in data.TIME_PERIOD[::12]]\n",
    "ax.xaxis.set_major_formatter(ticker.FixedFormatter(ticklabels))\n",
    "plt.gcf().autofmt_xdate()\n",
    "#remove legend\n",
    "ax.get_legend().remove()\n",
    "#remove x-axistitle\n",
    "ax.xaxis.label.set_visible(False)\n",
    "plt.show()"
   ]
  }
 ],
 "metadata": {
  "kernelspec": {
   "display_name": "Python 3",
   "language": "python",
   "name": "python3"
  },
  "language_info": {
   "codemirror_mode": {
    "name": "ipython",
    "version": 3
   },
   "file_extension": ".py",
   "mimetype": "text/x-python",
   "name": "python",
   "nbconvert_exporter": "python",
   "pygments_lexer": "ipython3",
   "version": "3.9.6"
  }
 },
 "nbformat": 4,
 "nbformat_minor": 5
}
