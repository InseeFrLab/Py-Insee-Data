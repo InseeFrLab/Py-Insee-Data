{
 "cells": [
  {
   "cell_type": "markdown",
   "id": "97d1367a-6f39-4fbb-85ac-cb42680838b2",
   "metadata": {},
   "source": [
    "# Automotive industry sites"
   ]
  },
  {
   "cell_type": "code",
   "execution_count": 1,
   "id": "c34a1e8c-c386-41c4-b5bd-16d8d3085c02",
   "metadata": {},
   "outputs": [],
   "source": [
    "import geopandas\n",
    "import pandas as pd\n",
    "import numpy as np\n",
    "import pyproj\n",
    "from shapely.ops import transform\n",
    "\n",
    "#%matplotlib inline\n",
    "import matplotlib.pyplot as plt\n",
    "import matplotlib, descartes\n",
    "import matplotlib.cm as cm\n",
    "from matplotlib.offsetbox import AnchoredText\n",
    "\n",
    "from pynsee import *"
   ]
  },
  {
   "cell_type": "code",
   "execution_count": 2,
   "id": "afd9bb1b-b5e9-4eb1-8da6-f0dfa716c35b",
   "metadata": {},
   "outputs": [
    {
     "name": "stdout",
     "output_type": "stream",
     "text": [
      "This function renders package's internal data\n",
      "Locally saved data has been used\n",
      "Set update=True to trigger an update\n",
      "\n",
      "!!! This function may return personal data, please check and\n",
      " comply with the legal framework relating to personal data protection !!!\n"
     ]
    }
   ],
   "source": [
    "# get activity list\n",
    "naf5 = get_activity_list('NAF5')\n",
    "\n",
    "# search data in SIRENE database\n",
    "data = search_sirene(variable = \"activitePrincipaleEtablissement\",\n",
    "                   pattern = '29.10Z', kind = 'siret', number=2000)"
   ]
  },
  {
   "cell_type": "code",
   "execution_count": null,
   "id": "954a3e47-4e44-4ae2-84dc-1ad5bba6a226",
   "metadata": {},
   "outputs": [
    {
     "name": "stdout",
     "output_type": "stream",
     "text": [
      "This function returns data made available by OpenStreetMap and its contributors\n",
      "Please comply with Openstreetmap's Copyright and ODbL Licence\n"
     ]
    },
    {
     "name": "stderr",
     "output_type": "stream",
     "text": [
      "Getting location:   6%|▌         | 3/51 [00:01<00:34,  1.40it/s]"
     ]
    },
    {
     "name": "stdout",
     "output_type": "stream",
     "text": [
      "For at least one point, exact location has not been found, city location has been given instead\n"
     ]
    },
    {
     "name": "stderr",
     "output_type": "stream",
     "text": [
      "Getting location:  80%|████████  | 41/51 [00:26<00:06,  1.61it/s]"
     ]
    }
   ],
   "source": [
    "# keep only businesses with more then 100 employees\n",
    "df = data.loc[data['effectifsMinEtablissement'] > 100]\n",
    "df = df.reset_index(drop=True)\n",
    "# find latitude and longitude of all businesses\n",
    "df = df.get_location()"
   ]
  },
  {
   "cell_type": "code",
   "execution_count": null,
   "id": "1ecf1ff0-69d5-418e-8f4a-72075aa7a9b3",
   "metadata": {
    "tags": []
   },
   "outputs": [],
   "source": [
    "df.head(2)"
   ]
  },
  {
   "cell_type": "code",
   "execution_count": null,
   "id": "2cf192d4-ee7a-4f2e-97c5-f82f4d00cbf6",
   "metadata": {
    "tags": []
   },
   "outputs": [],
   "source": [
    "df.columns"
   ]
  },
  {
   "cell_type": "code",
   "execution_count": null,
   "id": "7abcf56c-afe1-4074-a84e-5e531fc41c8a",
   "metadata": {},
   "outputs": [],
   "source": [
    "# make geodataframe\n",
    "gdf = geopandas.GeoDataFrame(df)\n",
    "gdf = gdf.reset_index(drop=True)\n",
    "gdf = gdf.sort_values(by=['effectifsMinEtablissement'], ascending=False)"
   ]
  },
  {
   "cell_type": "code",
   "execution_count": null,
   "id": "a18327d3-caec-407a-bbff-06743c5a0a44",
   "metadata": {},
   "outputs": [],
   "source": [
    "# get map - departement limits\n",
    "geodataList =  get_geodata_list()\n",
    "mapdep = get_geodata('ADMINEXPRESS-COG-CARTO.LATEST:departement')\n",
    "mapdep = mapdep.translate()\n",
    "\n",
    "# conversion to geopandas df\n",
    "mapdepgeo = geopandas.GeoDataFrame(mapdep)\n",
    "mapdepgeo.head()"
   ]
  },
  {
   "cell_type": "code",
   "execution_count": null,
   "id": "f8e9d35e-ec32-4ed0-bc66-96ba11df091d",
   "metadata": {},
   "outputs": [],
   "source": [
    "# make cleaned labels\n",
    "match_list = ['RENAULT SAS', 'ALPINE', 'BATILLY', 'MAUBEUGE CONSTRUCTION',\n",
    "              'TOYOTA', 'PSA AUTOMOBILES', 'VEHICULES LEGERS DU NORD', 'RENAULT TRUCKS']\n",
    "other_string_list = '|'.join(['[^' + x + ']' for x in match_list])\n",
    "\n",
    "conditions = [gdf['denominationUniteLegale'].str.contains(x) for x in match_list]\n",
    "conditions += [gdf['denominationUniteLegale'].str.contains(other_string_list)]\n",
    "\n",
    "values = ['RENAULT SAS', 'RENAULT SAS', 'RENAULT SAS', 'RENAULT SAS',\n",
    "          'TOYOTA', 'PSA AUTOMOBILES','PSA AUTOMOBILES', 'RENAULT TRUCKS', 'OTHER']\n",
    "\n",
    "gdf['label'] = np.select(conditions, values)"
   ]
  },
  {
   "cell_type": "code",
   "execution_count": null,
   "id": "93bd5af5-e11c-4f14-b366-3a41df735c4f",
   "metadata": {},
   "outputs": [],
   "source": [
    "def _convert_polygon(geo, crs_in='EPSG:4326', crs_out='EPSG:3857'):\n",
    "\n",
    "    if geo is not None:\n",
    "        crsIn = pyproj.CRS(crs_in)\n",
    "        crsOut = pyproj.CRS(crs_out)\n",
    "\n",
    "        project = pyproj.Transformer.from_crs(crsIn, crsOut, always_xy=True).transform\n",
    "        geo_converted = transform(project, geo)\n",
    "\n",
    "        return geo_converted\n",
    "\n",
    "# convert openstreetmap data from crs 4326 to crs 3857\n",
    "gdf['geometry'] = gdf['geometry'].apply(lambda x: _convert_polygon(x))\n",
    "\n",
    "gdf[\"crs\"] = 'EPSG:3857'"
   ]
  },
  {
   "cell_type": "code",
   "execution_count": null,
   "id": "4a0986bb-d65c-42bf-94be-c21e48bd5a43",
   "metadata": {
    "tags": []
   },
   "outputs": [],
   "source": [
    "# annotation\n",
    "txt = 'Circles are proportionate to the minimum of the employee number range'\n",
    "txt += '\\nIf headcount is missing in SIRENE database, some factories may not be displayed'\n",
    "\n",
    "#plot\n",
    "ax = mapdepgeo.plot(color='white', edgecolor='black', figsize = (15,7))\n",
    "plt.title('Automotive industry sites in France')\n",
    "gdf.plot(ax=ax,\n",
    "         column = 'label',\n",
    "         edgecolor='white',\n",
    "         markersize=gdf.effectifsMinEtablissement/5,\n",
    "         legend=True,\n",
    "         legend_kwds={'bbox_to_anchor': (1.1,1),\n",
    "                       'loc':1, 'borderaxespad': 0})\n",
    "\n",
    "at = AnchoredText(txt, prop=dict(size=9), frameon=True, loc='lower left')\n",
    "ax.add_artist(at)\n",
    "ax.set_axis_off()\n",
    "plt.show()"
   ]
  }
 ],
 "metadata": {
  "kernelspec": {
   "display_name": "Python 3 (ipykernel)",
   "language": "python",
   "name": "python3"
  },
  "language_info": {
   "codemirror_mode": {
    "name": "ipython",
    "version": 3
   },
   "file_extension": ".py",
   "mimetype": "text/x-python",
   "name": "python",
   "nbconvert_exporter": "python",
   "pygments_lexer": "ipython3",
   "version": "3.10.8"
  }
 },
 "nbformat": 4,
 "nbformat_minor": 5
}
