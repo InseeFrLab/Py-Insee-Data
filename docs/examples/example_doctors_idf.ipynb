{
  "cells": [
    {
      "cell_type": "code",
      "execution_count": 2,
      "metadata": {},
      "outputs": [],
      "source": [
        "from pynsee import *\n",
        "\n",
        "import difflib\n",
        "import geopandas as gpd\n",
        "import numpy\n",
        "import pandas as pd\n",
        "from pandas.api.types import CategoricalDtype\n",
        "import matplotlib.cm as cm\n",
        "import matplotlib.pyplot as plt\n",
        "import descartes\n",
        "import re\n",
        "from shapely.geometry import Polygon, MultiPolygon"
      ],
      "id": "b61a706e-74ac-43bf-9a2e-c7a02c8db6de"
    },
    {
      "cell_type": "code",
      "execution_count": 3,
      "metadata": {},
      "outputs": [],
      "source": [
        "import warnings\n",
        "from shapely.errors import ShapelyDeprecationWarning\n",
        "warnings.filterwarnings(\"ignore\", category=ShapelyDeprecationWarning)"
      ],
      "id": "40d9ff4f-abb9-4b9f-a2f8-82d9e259d9e3"
    },
    {
      "cell_type": "code",
      "execution_count": 4,
      "metadata": {},
      "outputs": [],
      "source": [
        "get_dimension_list().to_csv(\"sirene_dimensions.csv\")"
      ],
      "id": "cf972bae-a3ed-4b8e-ac94-c3a963604eb9"
    },
    {
      "cell_type": "code",
      "execution_count": 5,
      "metadata": {},
      "outputs": [],
      "source": [
        "# get activity list\n",
        "naf5 = get_activity_list('NAF5')\n",
        "naf5.to_csv(\"naf.csv\")\n",
        "naf5[naf5[\"NAF5\"].str.contains(\"^86.2\")]"
      ],
      "id": "ae8af4f7-06e3-4760-ab6f-aad5ab00a3ef"
    },
    {
      "cell_type": "code",
      "execution_count": 6,
      "metadata": {},
      "outputs": [],
      "source": [
        "list_dep = [\"91\", \"92\", \"93\", \"75\", \"77\", \"78\", \"95\"]\n",
        "\n",
        "# bretagne\n",
        "list_dep = [\"29\", \"22\", \"56\", \"35\"]\n",
        "\n",
        "# PACA\n",
        "list_dep = [\"05\", \"06\", \"04\", \"83\", \"84\", \"13\"]\n",
        "list_dep = [\"92\", \"93\", \"75\", \"94\"]\n",
        "list_dep = [\"91\", \"92\", \"93\", \"75\", \"77\", \"78\", \"95\", \"94\"]\n",
        "\n",
        "string_dep = \"|\".join([dep + \"*\" for dep in list_dep])\n",
        "string_dep"
      ],
      "id": "b3b11d8f-a5c1-479e-b657-a8f8d3a323fa"
    },
    {
      "cell_type": "code",
      "execution_count": 7,
      "metadata": {},
      "outputs": [],
      "source": [
        "# search data on doctors\n",
        "\n",
        "doctors = search_sirene(variable = [\"activitePrincipaleEtablissement\", \"codePostalEtablissement\"],\n",
        "                        pattern = ['86.21Z*', string_dep],\n",
        "                        number = 100000)\n",
        " # '86.21Z' médecin généraliste\n",
        "\n",
        "doctors = doctors[doctors[\"activitePrincipaleEtablissement\"].str.contains(\"^86.21Z\")].reset_index(drop=True)"
      ],
      "id": "ab17218e-e2dd-435b-b9d7-cdbd20e5d79a"
    },
    {
      "cell_type": "code",
      "execution_count": 8,
      "metadata": {},
      "outputs": [],
      "source": [
        "doctors.to_csv('doc.csv')"
      ],
      "id": "06acb207-4b0c-44ec-bae3-62b328ba57c3"
    },
    {
      "cell_type": "code",
      "execution_count": 9,
      "metadata": {},
      "outputs": [],
      "source": [
        "# doctors[[\"categorieJuridiqueUniteLegale\", \"categorieJuridiqueUniteLegaleLibelle\"]].drop_duplicates()"
      ],
      "id": "19a593ce-0cee-4ccc-afc0-30826c982a61"
    },
    {
      "cell_type": "code",
      "execution_count": 10,
      "metadata": {},
      "outputs": [],
      "source": [
        "# filter\n",
        "list_pattern = [\"RADIOLOGIE\", \"IMAGERIE\", \"GYNECO\", \"DENTAIRE\", \"ANESTHES\", 'P.M.I', 'INFANTILE', 'CARDIOLOG',\n",
        "                \"MAXILLO\", \"HOSPITALIER\", \"OPHTALMO\", \"DERMATOLOG\", 'PLANIFICATION', 'MAIRIE', 'THORACIQUE',\n",
        "                \"TOMODENSITOM\", \"URGENCE\", \"NEPHROLOG\", \"PRAXEA\", 'VACCINATION', 'SCOLAIRE', 'CANCER', 'STOMATOLO',\n",
        "                \"URODYNAMIQ\", \"CARDIORIS\", \"CHIRPLASTIQUE\", \"NINAMAX\", \"CICOF\", 'MATERNELLE', 'DIALYSE',\n",
        "                'RADIOTHERAPIE', 'RHUMATOLOG', 'DENTISTE', 'ECHOGRAPH', 'PATHOLOG', 'CHIRURGIE', 'ESTHETIQ',\n",
        "                'CYTOLOG', 'ORTHOPED']\n",
        "\n",
        "pattern = r\"|\".join(list_pattern)"
      ],
      "id": "e86f34af-43e5-4ac2-9ee1-2b91c280cab8"
    },
    {
      "cell_type": "code",
      "execution_count": 11,
      "metadata": {},
      "outputs": [],
      "source": [
        "doctors = doctors[~doctors[\"denominationUniteLegale\"].str.contains(pattern, regex=True, na=False)].reset_index(drop=True)\n",
        "doctors = doctors[~doctors[\"enseigne1Etablissement\"].str.contains(pattern, regex=True, na=False)].reset_index(drop=True)\n",
        "\n",
        "# exclude association and administration\n",
        "doctors = doctors[~doctors[\"categorieJuridiqueUniteLegale\"].isin([\"9220\", \"7220\"])].reset_index(drop=True)\n",
        "doctors = doctors.sort_values([\"categorieJuridiqueUniteLegale\"])\n",
        "\n",
        "doctors.to_csv(\"doctors.csv\")\n",
        "list_denomination_uniteLegale = doctors.denominationUniteLegale.unique()\n",
        "# list_denomination_uniteLegale                 "
      ],
      "id": "2c296083-9600-453b-b6eb-e10a85e25ddd"
    },
    {
      "cell_type": "code",
      "execution_count": 12,
      "metadata": {},
      "outputs": [],
      "source": [
        "# get geographical data list\n",
        "geodata_list = get_geodata_list()\n",
        "\n",
        "# get communes geographical limits\n",
        "com = get_geodata('ADMINEXPRESS-COG-CARTO.LATEST:commune')\n",
        "\n",
        "# get arrondissement (subdivision of departement) geographical limits\n",
        "arr = get_geodata('ADMINEXPRESS-COG-CARTO.LATEST:arrondissement')"
      ],
      "id": "07275c7f-350a-417e-93e5-297300f6e2b5"
    },
    {
      "cell_type": "code",
      "execution_count": 13,
      "metadata": {},
      "outputs": [],
      "source": [
        "# get arrondissement municipal geographical limits\n",
        "arrmun = get_geodata('ADMINEXPRESS-COG-CARTO.LATEST:arrondissement_municipal')\n",
        "arrmun = arrmun[arrmun.insee_com.str.contains('^75')].reset_index(drop=True)\n",
        "arrmun[\"nom_m\"] = arrmun[\"nom_m\"].apply(lambda x: re.sub(r\"ER|E\", \"\", re.sub(\" ARRONDISSEMENT\", \"\", x)))\n",
        "arrmun = arrmun.rename(columns={\"geometry\" : \"geometry2\",\n",
        "                                \"population\" : \"population2\",\n",
        "                               \"nom_m\" : \"nom_m2\"})\n",
        "arrmun = arrmun[[\"nom_m2\", \"geometry2\", \"population2\"]]"
      ],
      "id": "627856cc-c3e9-4a0e-8854-c32214da72f4"
    },
    {
      "cell_type": "code",
      "execution_count": 14,
      "metadata": {},
      "outputs": [],
      "source": [
        "def _replace_nan(x, y):\n",
        "    if (x is None) or (numpy.isnan(x)):\n",
        "        return y\n",
        "    else:\n",
        "        return x"
      ],
      "id": "5c442c95-a7a9-473c-b299-f0bef534f9c0"
    },
    {
      "cell_type": "code",
      "execution_count": 15,
      "metadata": {},
      "outputs": [],
      "source": [
        "doctors"
      ],
      "id": "5dd21870-871a-439f-b79d-caabafb38fa5"
    },
    {
      "cell_type": "code",
      "execution_count": 16,
      "metadata": {},
      "outputs": [],
      "source": [
        "# count general practioners by commun\n",
        "hdLegalStatus = doctors.groupby(['categorieJuridiqueUniteLegale'], dropna=True)['effectifsMinEtablissement'].agg(['mean', \"count\"])\n",
        "   \n",
        "hdLegalStatus[\"meanHeadcountLegalStatus\"] = hdLegalStatus[\"mean\"].apply(lambda x: _replace_nan(x, 1))\n",
        "\n",
        "hdLegalStatus[\"categorieJuridiqueUniteLegale\"] = hdLegalStatus.index\n",
        "hdLegalStatus.loc[hdLegalStatus[\"categorieJuridiqueUniteLegale\"] == \"1000\", \"meanHeadcountLegalStatus\"] = 1\n",
        "hdLegalStatus = hdLegalStatus.reset_index(drop=True)\n",
        "\n",
        "doctors = doctors.merge(hdLegalStatus, how = \"left\", on = \"categorieJuridiqueUniteLegale\").reset_index(drop=True)\n",
        "\n",
        "for r in doctors.index:\n",
        "    hdMin = doctors.loc[r, \"effectifsMinEtablissement\"]\n",
        "    if (hdMin is None) or (numpy.isnan(hdMin)):\n",
        "        doctors.loc[r, \"headcount\"] = doctors.loc[r, \"meanHeadcountLegalStatus\"]\n",
        "    else:\n",
        "        doctors.loc[r, \"headcount\"] = hdMin"
      ],
      "id": "4c113265-2d15-499d-92d3-6564133ef0ee"
    },
    {
      "cell_type": "code",
      "execution_count": 17,
      "metadata": {},
      "outputs": [],
      "source": [
        "# duplicates cleaning\n",
        "# normalization to avoid double counting\n",
        "doctors[\"headcountFinal\"] = doctors[\"headcount\"] / doctors.groupby(\"siren\", dropna=True)[\"headcount\"].transform(\"sum\")\n",
        "\n",
        "#visual check duplicates\n",
        "dupDoctors = doctors[doctors[\"siren\"].duplicated(keep=False)].reset_index(drop=True)\n",
        "dupDoctors.to_csv(\"dupDoctors.csv\")\n",
        "\n",
        "list_adress_var = [\"numeroVoieEtablissement\", \"typeVoieEtablissementLibelle\", \n",
        "                   \"libelleVoieEtablissement\", \"codePostalEtablissement\", \"libelleCommuneEtablissement\"]\n",
        "\n",
        "addressDupDoctors = doctors[doctors[list_adress_var].duplicated(keep=False)].reset_index(drop=True)\n",
        "addressDupDoctors = addressDupDoctors.sort_values(list_adress_var)\n",
        "addressDupDoctors.to_csv(\"addressDupDoctors.csv\")"
      ],
      "id": "637cfb8f-f382-4282-ace1-224763059abc"
    },
    {
      "cell_type": "code",
      "execution_count": 18,
      "metadata": {},
      "outputs": [],
      "source": [
        "doctors.sort_values([\"libelleCommuneEtablissement\"]).to_csv(\"doctorSortedCom.csv\")"
      ],
      "id": "59052e2e-f568-4b8a-aaf1-5fe605297802"
    },
    {
      "cell_type": "code",
      "execution_count": 19,
      "metadata": {},
      "outputs": [],
      "source": [
        "# count general practioners by commun\n",
        "\n",
        "doctorsCom = doctors.groupby(['libelleCommuneEtablissement', 'codePostalEtablissement'])['headcountFinal'].agg(['sum'])\n",
        "doctorsCom = doctorsCom.rename(columns = {\"sum\" : \"headcount\"})\n",
        "doctorsCom"
      ],
      "id": "3216f59f-2765-4c99-844f-4aa1cab2bddb"
    },
    {
      "cell_type": "code",
      "execution_count": 20,
      "metadata": {},
      "outputs": [],
      "source": [
        "doctorsCom[\"libelleCommuneEtablissement\"] = doctorsCom.index.get_level_values(\"libelleCommuneEtablissement\")\n",
        "doctorsCom[\"codePostalEtablissement\"] = doctorsCom.index.get_level_values(\"codePostalEtablissement\")\n",
        "doctorsCom = doctorsCom.reset_index(drop=True)"
      ],
      "id": "6e58bacd-6205-4336-9ac3-2c5cfe649583"
    },
    {
      "cell_type": "code",
      "execution_count": 21,
      "metadata": {},
      "outputs": [],
      "source": [
        "import os, sys \n",
        "\n",
        "communes = get_geo_list(\"communes\")\n",
        "\n",
        "def _find_commune_identifier(com, dep, communes=communes):\n",
        "    \n",
        "    try:\n",
        "        list_com = [c.upper() for c in communes.TITLE.to_list()]    \n",
        "        communes[\"TITLE\"] = list_com    \n",
        "        communes = communes[communes[\"CODE_DEP\"] == dep].reset_index(drop=True)\n",
        "\n",
        "        match = difflib.get_close_matches(com.upper(), list_com)[0]\n",
        "\n",
        "        cog = communes[communes[\"TITLE\"] == match].reset_index(drop=True)\n",
        "        cog = cog.loc[0, \"CODE\"]\n",
        "    except:\n",
        "        cog = None\n",
        "    \n",
        "    return cog      \n",
        "  \n",
        "for r in doctorsCom.index:\n",
        "    dep = doctorsCom.loc[r, \"codePostalEtablissement\"][:2]\n",
        "    comName = doctorsCom.loc[r, \"libelleCommuneEtablissement\"]\n",
        "    doctorsCom.loc[r, \"insee_com\"] = _find_commune_identifier(comName, dep)"
      ],
      "id": "b53180e8-6883-4a31-bc04-ec54449f99b6"
    },
    {
      "cell_type": "code",
      "execution_count": 22,
      "metadata": {},
      "outputs": [],
      "source": [
        "comDep = com[com[\"insee_dep\" ].isin(list_dep)].reset_index(drop=True)\n",
        "doctorsCom2 = comDep.merge(doctorsCom, how = \"left\", on = \"insee_com\")\n",
        "doctorsCom2.to_csv(\"doctorsDep.csv\")"
      ],
      "id": "955a8871-b750-43e9-9540-0ef627a299cd"
    },
    {
      "cell_type": "code",
      "execution_count": 23,
      "metadata": {},
      "outputs": [],
      "source": [
        "doctorsCom2[\"headcount\"] = doctorsCom2[\"headcount\"].apply(lambda x: _replace_nan(x, 0))\n",
        "\n",
        "doctorsCom3 = doctorsCom2.copy().groupby([\"insee_arr\"])[[\"population\", \"headcount\"]].agg([\"sum\"])\n",
        "doctorsCom3[\"ratio\"] = 1000 * doctorsCom3[\"headcount\"] / doctorsCom3[\"population\"]\n",
        "doctorsCom3[\"insee_arr\"] = doctorsCom3.index\n",
        "doctorsCom3 = doctorsCom3.reset_index(drop=True)\n",
        "\n",
        "arrDep = arr[arr[\"insee_dep\"].isin(list_dep)].reset_index(drop=True)\n",
        "doctorsCom3 = doctorsCom3.merge(arrDep[[\"insee_arr\", \"geometry\"]], how= \"left\", on = \"insee_arr\")\n",
        "doctorsCom3 = doctorsCom3.rename(columns = {\"('ratio','')\" : \"ratio\"})\n",
        "doctorsCom3.columns = [\"insee_arr\", \"population\", \"headcount\", \"ratio\", \"insee_arr2\", \"geometry\"]\n",
        "doctorsCom3"
      ],
      "id": "5df71d92-c399-4bd9-946f-ab78e5b9b016"
    },
    {
      "cell_type": "code",
      "execution_count": 24,
      "metadata": {},
      "outputs": [],
      "source": [
        "doctorsCom2[\"headcount\"] = doctorsCom2[\"headcount\"].apply(lambda x: _replace_nan(x, 0))\n",
        "doctorsCom2[\"ratio\"] = 1000 * doctorsCom2[\"headcount\"] / doctorsCom2[\"population\"]\n",
        "doctorsCom2.loc[doctorsCom2[\"nom_m\"] == \"CHEVANNES\", \"ratio\"] = 2\n",
        "doctorsCom2.sort_values([\"ratio\"], ascending=False)"
      ],
      "id": "40603995-5f71-4c4b-bb3b-d17aaba54249"
    },
    {
      "cell_type": "code",
      "execution_count": 25,
      "metadata": {},
      "outputs": [],
      "source": [
        "doctorsCom2 = doctorsCom2.reset_index(drop=True)\n",
        "\n",
        "doctorsCom4 = doctorsCom2[doctorsCom2.columns].merge(arrmun, left_on =\"libelleCommuneEtablissement\", right_on=\"nom_m2\", how=\"left\")\n",
        "for i in doctorsCom4.index:\n",
        "    if type(doctorsCom4.loc[i, 'geometry2']) in [MultiPolygon, Polygon]:\n",
        "        doctorsCom4.loc[i, 'geometry'] = doctorsCom4.loc[i, 'geometry2']\n",
        "        doctorsCom4.loc[i, \"ratio\"] = 1000 * doctorsCom4.loc[i,\"headcount\"] / doctorsCom4.loc[i,\"population2\"]\n",
        "#octorsCom4[doctorsCom4.nom.str.contains(\"Paris\")]\n",
        "del doctorsCom4[\"geometry2\"]\n",
        "doctorsCom2Map = gpd.GeoDataFrame(doctorsCom4)"
      ],
      "id": "c5251d62-246d-4f6d-8a98-9fef6e6b939a"
    },
    {
      "cell_type": "code",
      "execution_count": 26,
      "metadata": {
        "tags": []
      },
      "outputs": [],
      "source": [
        "doctorsCom2Map = gpd.GeoDataFrame(doctorsCom4)\n",
        "\n",
        "#fig, ax = plt.subplots(1,1,figsize=[10,10])\n",
        "#doctorsCom2Map.plot(column='ratio', cmap=cm.viridis,\n",
        "#    legend=True, ax=ax)\n",
        "#ax.set_axis_off()\n",
        "#ax.set(title='Distribution of general practioners (medecins generalistes) in France')\n",
        "#plt.show()"
      ],
      "id": "bad9a940-ac74-44a1-8b83-f99cc2603e23"
    },
    {
      "cell_type": "code",
      "execution_count": 27,
      "metadata": {},
      "outputs": [],
      "source": [
        "#doctorsCom3Map = gpd.GeoDataFrame(doctorsCom3)\n",
        "\n",
        "#fig, ax = plt.subplots(1,1,figsize=[10,10])\n",
        "#doctorsCom3Map.plot(column='ratio', cmap=cm.viridis,\n",
        "#    legend=True, ax=ax)\n",
        "#ax.set_axis_off()\n",
        "#ax.set(title='Distribution of general practioners (medecins generalistes) in France')\n",
        "#plt.show()"
      ],
      "id": "a0c176be-34a6-4987-a831-4a9ae3d766c0"
    },
    {
      "cell_type": "code",
      "execution_count": 28,
      "metadata": {},
      "outputs": [],
      "source": [
        "doctorsCom2Map.loc[doctorsCom2Map.ratio < 1, 'range'] = \"< 0.2\"\n",
        "doctorsCom2Map.loc[doctorsCom2Map.ratio >= 5, 'range'] = \"> 5\"\n",
        "\n",
        "density_ranges = [0.2, 0.6, 1, 1.5, 2, 2.5, 3, 3.5, 5]\n",
        "list_ranges = []\n",
        "list_ranges.append( \"< 0.2\")\n",
        "\n",
        "for i in range(len(density_ranges)-1):\n",
        "    min_range = density_ranges[i]\n",
        "    max_range = density_ranges[i+1]\n",
        "    range_string = \"[{}, {}[\".format(min_range, max_range)\n",
        "    rows = (doctorsCom2Map.ratio >= min_range) & (doctorsCom2Map.ratio < max_range)\n",
        "    doctorsCom2Map.loc[rows, 'range'] = range_string\n",
        "    list_ranges.append(range_string)\n",
        "\n",
        "list_ranges.append(\"> 5\")\n",
        "\n",
        "doctorsCom2Map['range2'] = doctorsCom2Map['range'].astype(CategoricalDtype(categories=list_ranges, ordered=True))"
      ],
      "id": "0a79c036-e8b1-4158-9813-a51fc5c27038"
    },
    {
      "cell_type": "code",
      "execution_count": 29,
      "metadata": {},
      "outputs": [],
      "source": [
        "fig, ax = plt.subplots(1,1,figsize=[10,10])\n",
        "doctorsCom2Map.plot(column='range2', cmap=cm.viridis,\n",
        "    legend=True, ax=ax)\n",
        "ax.set_axis_off()\n",
        "ax.set(title='Distribution of doctors in Ile-de-France\\nunit: 1 doctor/ 1000 inhabitants')\n",
        "plt.show()"
      ],
      "id": "bc53d0e1-3770-4134-87e1-4d9061c21de5"
    }
  ],
  "nbformat": 4,
  "nbformat_minor": 5,
  "metadata": {
    "kernelspec": {
      "name": "python3",
      "display_name": "Python 3 (ipykernel)",
      "language": "python"
    },
    "language_info": {
      "name": "python",
      "codemirror_mode": {
        "name": "ipython",
        "version": "3"
      },
      "file_extension": ".py",
      "mimetype": "text/x-python",
      "nbconvert_exporter": "python",
      "pygments_lexer": "ipython3",
      "version": "3.10.4"
    }
  }
}