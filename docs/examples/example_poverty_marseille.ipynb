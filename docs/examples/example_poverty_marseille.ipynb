{
  "cells": [
    {
      "cell_type": "markdown",
      "metadata": {},
      "source": [
        "# Poverty in Marseille with granular data"
      ],
      "id": "ddf54854-6df8-4721-b3b8-f3a74e48ef6d"
    },
    {
      "cell_type": "code",
      "execution_count": 2,
      "metadata": {},
      "outputs": [],
      "source": [
        "import requests\n",
        "import tempfile\n",
        "import zipfile\n",
        "import os\n",
        "import re\n",
        "import py7zr\n",
        "import pandas as pd\n",
        "import geopandas\n",
        "from shapely.ops import transform\n",
        "from shapely.geometry import Polygon, Point\n",
        "import matplotlib.cm as cm\n",
        "import matplotlib.pyplot as plt\n",
        "from matplotlib.offsetbox import AnchoredText\n",
        "\n",
        "from pynsee.geodata.get_geodata import get_geodata"
      ],
      "id": "1cb6646b-e34b-447b-8798-70e5c19ccb1a"
    },
    {
      "cell_type": "code",
      "execution_count": 3,
      "metadata": {},
      "outputs": [],
      "source": [
        "import warnings\n",
        "from shapely.errors import ShapelyDeprecationWarning\n",
        "warnings.filterwarnings(\"ignore\", category=ShapelyDeprecationWarning)"
      ],
      "id": "adcc8dda-4e92-4519-820e-bb4715bd0323"
    },
    {
      "cell_type": "code",
      "execution_count": 4,
      "metadata": {},
      "outputs": [],
      "source": [
        "# download data from insee.fr\n",
        "\n",
        "url = \"https://www.insee.fr/fr/statistiques/fichier/4176290/Filosofi2015_carreaux_200m_csv.zip\"\n",
        "\n",
        "def _download_data(url=url):\n",
        "    results = requests.get(url)\n",
        "    dirpath = tempfile.mkdtemp()\n",
        "    dwnFile = dirpath + '\\\\datafile'\n",
        "\n",
        "    if not os.path.exists(dwnFile):\n",
        "        with open(dwnFile, 'wb') as f:\n",
        "            f.write(results.content)\n",
        "            f.close()\n",
        "\n",
        "    with zipfile.ZipFile(dwnFile, 'r') as zip_ref:\n",
        "        zip_ref.extractall(dirpath)\n",
        "\n",
        "    file_to_read = [f for f in os.listdir(dirpath) if not re.match('.*.zip$', f)]\n",
        "    file2load = dirpath + \"/\" + file_to_read[0]\n",
        "\n",
        "    with py7zr.SevenZipFile(file2load, mode='r') as z:\n",
        "        z.extractall(dirpath)\n",
        "\n",
        "    file_to_read = [f for f in os.listdir(dirpath) if re.match('.*metropole.csv$', f)]\n",
        "    data = pd.read_csv(file_to_read[0], dtype='str', sep=\",\")\n",
        "\n",
        "    return data\n",
        "\n",
        "data = _download_data()"
      ],
      "id": "c5dd034b-4441-4456-a39b-95c8b42826f9"
    },
    {
      "cell_type": "code",
      "execution_count": 5,
      "metadata": {},
      "outputs": [],
      "source": [
        "def _extract_lat_lon(string, pattern = \"CRS3035RES200mN\"):\n",
        "    \"\"\"function to extract latitude and longitude from data\"\"\" \n",
        "    \n",
        "    splitted_string = re.sub(pattern, \"\", string).split(\"E\")\n",
        "    lat_lon_numeric = [int(x) for x in splitted_string] \n",
        "    return lat_lon_numeric\n",
        "\n",
        "def _make_square(string, sideLength = 200):\n",
        "    \"\"\"function to make square from geographical points\"\"\"    \n",
        "    \n",
        "    lat, lon = _extract_lat_lon(string)\n",
        "    polygon = Polygon([Point(lon, lat), \n",
        "                      Point(lon + sideLength, lat),\n",
        "                      Point(lon + sideLength, lat + sideLength),\n",
        "                      Point(lon, lat + sideLength),\n",
        "                      Point(lon, lat)])\n",
        "    return polygon"
      ],
      "id": "3383cb08-2947-4592-b907-d6d1a8f49294"
    },
    {
      "cell_type": "code",
      "execution_count": 6,
      "metadata": {},
      "outputs": [],
      "source": [
        "# filter data on Var departement\n",
        "data13 = data[data.Depcom.str.contains('^13')].reset_index(drop=True)"
      ],
      "id": "9a79a90d-26cf-4688-951e-2439f9cdc3ff"
    },
    {
      "cell_type": "code",
      "execution_count": 7,
      "metadata": {},
      "outputs": [],
      "source": [
        "# make geographical squares\n",
        "data13[\"geometry\"] = data13[\"IdINSPIRE\"].apply(lambda x: _make_square(x))"
      ],
      "id": "8f0c48dc-17d4-4965-9d68-f75ac068ef84"
    },
    {
      "cell_type": "code",
      "execution_count": 8,
      "metadata": {},
      "outputs": [],
      "source": [
        "# download geographical data from IGN API\n",
        "arr = get_geodata('ADMINEXPRESS-COG-CARTO.LATEST:arrondissement_municipal', crs = \"EPSG:3035\")"
      ],
      "id": "5f3059d3-4cec-4a48-8f14-1f3a7947e079"
    },
    {
      "cell_type": "code",
      "execution_count": 9,
      "metadata": {},
      "outputs": [],
      "source": [
        "# filter geographical limits of Marseille city\n",
        "marseille = arr[arr.nom.str.contains(\"Marseille\")]\n",
        "geoMarseille = marseille.get_geom()\n",
        "marseilleMap = geopandas.GeoDataFrame(marseille)\n",
        "\n",
        "def _check_geom_marseille(geo, geoMarseille=geoMarseille):\n",
        "    return geo.intersects(geoMarseille)\n",
        "\n",
        "data13[\"check_marseille\"] = data13[\"geometry\"].apply(lambda x: _check_geom_marseille(x))\n",
        "dataMarseille = data13[data13[\"check_marseille\"]].reset_index(drop=True)\n",
        "\n",
        "geoMarseille"
      ],
      "id": "bd15f1bc-0328-4ea5-b03f-32434a0d11c5"
    },
    {
      "cell_type": "code",
      "execution_count": 10,
      "metadata": {},
      "outputs": [],
      "source": [
        "# compute percentage of poor households for each 200m square \n",
        "cols = [\"Men_pauv\", \"Men\"]\n",
        "dataMarseille[cols] = dataMarseille[cols].apply(pd.to_numeric, errors='coerce')\n",
        "dataMarseille[\"Men_pauv_pct\"] = dataMarseille[\"Men_pauv\"] / dataMarseille[\"Men\"] * 100\n",
        "\n",
        "dataMarseilleMap = geopandas.GeoDataFrame(dataMarseille)"
      ],
      "id": "4b4a263e-65f1-4058-a7d9-1cefe4f9d70a"
    },
    {
      "cell_type": "code",
      "execution_count": 11,
      "metadata": {},
      "outputs": [],
      "source": [
        "# make plot\n",
        "ax = dataMarseilleMap.plot(column='Men_pauv_pct', \n",
        "                           cmap=cm.viridis, \n",
        "                           legend=True,\n",
        "                           legend_kwds={'shrink': 0.5},\n",
        "                           figsize = (15,15))\n",
        "marseilleMap.plot(ax=ax, edgecolor='red', color='none')\n",
        "ax.set_axis_off()\n",
        "plt.suptitle('Poverty in Marseille in 2015', y=0.85, fontweight=\"bold\")\n",
        "plt.title('percentage of poor households on a 200m-square grid', size=11, x=0.6)\n",
        "plt.show()"
      ],
      "id": "08199223-c715-4f14-9694-455de29a249d"
    }
  ],
  "nbformat": 4,
  "nbformat_minor": 5,
  "metadata": {
    "kernelspec": {
      "name": "python3",
      "display_name": "Python 3 (ipykernel)",
      "language": "python"
    },
    "language_info": {
      "name": "python",
      "codemirror_mode": {
        "name": "ipython",
        "version": "3"
      },
      "file_extension": ".py",
      "mimetype": "text/x-python",
      "nbconvert_exporter": "python",
      "pygments_lexer": "ipython3",
      "version": "3.10.4"
    }
  }
}