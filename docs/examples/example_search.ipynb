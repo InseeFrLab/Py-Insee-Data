{
 "metadata": {
  "language_info": {
   "codemirror_mode": {
    "name": "ipython",
    "version": 3
   },
   "file_extension": ".py",
   "mimetype": "text/x-python",
   "name": "python",
   "nbconvert_exporter": "python",
   "pygments_lexer": "ipython3",
   "version": "3.9.2-final"
  },
  "orig_nbformat": 2,
  "kernelspec": {
   "name": "python3",
   "display_name": "Python 3.9.2 64-bit",
   "metadata": {
    "interpreter": {
     "hash": "511ed2f4643ff7138ab497f13cc5b931fd8d0523c8006d9502e9dabd9ed620ad"
    }
   }
  }
 },
 "nbformat": 4,
 "nbformat_minor": 2,
 "cells": [
  {
   "cell_type": "code",
   "execution_count": 1,
   "metadata": {},
   "outputs": [
    {
     "output_type": "stream",
     "name": "stdout",
     "text": [
      "                       nomflow     idbank  \\\n63214      CONSTRUCTION-LOCAUX  001761985   \n63310      CONSTRUCTION-LOCAUX  001762081   \n63713   CONSTRUCTION-LOGEMENTS  001761793   \n63809   CONSTRUCTION-LOGEMENTS  001761889   \n64387    CREATIONS-ENTREPRISES  001564260   \n...                        ...        ...   \n151546              TRANSPORTS  000439787   \n151604              TRANSPORTS  010001981   \n151608              TRANSPORTS  010001985   \n151612              TRANSPORTS  010001989   \n151623              TRANSPORTS  001571138   \n\n                                                  cleFlow  \\\n63214   M.BDM.SURF_PLANCHER_AUT.VALEUR_ABSOLUE.CLA.SO....   \n63310   M.BDM.SURF_PLANCHER_COM.VALEUR_ABSOLUE.CLC.SO....   \n63713   M..BDM.NBRE_LOG_AUT.VALEUR_ABSOLUE.CLA.SO.D75....   \n63809   M..BDM.NBRE_LOG_COM.VALEUR_ABSOLUE.CLC.SO.D75....   \n64387   M.TYPE-ENT_TOTAL.ENS.VALEUR_ABSOLUE.SO.D75.UNI...   \n...                                                   ...   \n151546  M.TRANSPORTS_MARCHANDISES.SO.140.SO.SO.VALEUR_...   \n151604  M.TRANSPORTS_VOYAGEURS.SO.140.SO.SO.VALEUR_ABS...   \n151608  M.TRANSPORTS_VOYAGEURS.SO.140.SO.SO.VALEUR_ABS...   \n151612  M.TRANSPORTS_VOYAGEURS.SO.140.SO.SO.VALEUR_ABS...   \n151623  T.TRANSPORTS_VOYAGEURS.SO.RATPBT.SO.SO.VALEUR_...   \n\n                                                 title_fr  \\\n63214   Surface de plancher autorisée - Ensemble des l...   \n63310   Surface de plancher commencée - Ensemble des l...   \n63713   Nombre de logements autorisés - Cumul sur douz...   \n63809   Nombre de logements commencés - Cumul sur douz...   \n64387   Nombre de créations d'entreprises - Paris - Do...   \n...                                                   ...   \n151546       Trafic de fret et poste - Aéroports de Paris   \n151604  Fréquentation de passagers vols internationaux...   \n151608  Fréquentation de passagers vols intérieurs ent...   \n151612  Fréquentation de passagers vols intérieurs ent...   \n151623  Transport de voyageurs sur le réseau de surfac...   \n\n                                                 title_en  \n63214   Authorized floor area - All premises - Paris -...  \n63310   Started floor area - All premises - Paris - Re...  \n63713   Number of authorized dwellings - 12-month aggr...  \n63809   Number of started dwellings - 12-month aggrega...  \n64387   Number of enterprises births - Paris - Monthly...  \n...                                                   ...  \n151546  Air freight and mail transport - Aéroports de ...  \n151604  Air passenger transport - international flight...  \n151608  Air passenger transport - domestic flights - b...  \n151612  Air passenger transport - domestic flights - b...  \n151623  Passenger traffic on surface network (bus line...  \n\n[576 rows x 5 columns]\n"
     ]
    }
   ],
   "source": [
    "from pynsee.macrodata import search_insee \n",
    "\n",
    "search_all = search_insee()\n",
    "\n",
    "search_paper = search_insee(\"pâte à papier\")\n",
    "\n",
    "search_paris = search_insee(\"PARIS\")\n",
    "\n",
    "search_survey_gdp = search_insee(\"Survey|GDP\")\n",
    "\n",
    "print(search_paris)\n"
   ]
  }
 ]
}