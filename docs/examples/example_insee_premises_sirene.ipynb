{
 "cells": [
  {
   "cell_type": "markdown",
   "metadata": {},
   "source": [
    "# INSEE's premises"
   ]
  },
  {
   "cell_type": "code",
   "execution_count": 1,
   "metadata": {},
   "outputs": [],
   "source": [
    "import geopandas\n",
    "import re\n",
    "import pandas as pd\n",
    "import pyproj\n",
    "from shapely.ops import transform\n",
    "\n",
    "%matplotlib inline\n",
    "import matplotlib.pyplot as plt\n",
    "import matplotlib.patches as mpatches\n",
    "import matplotlib, descartes\n",
    "\n",
    "from pynsee.sirene import *\n",
    "from pynsee.geodata import *"
   ]
  },
  {
   "cell_type": "code",
   "execution_count": 2,
   "metadata": {},
   "outputs": [],
   "source": [
    "# Subscribe to api.insee.fr and get your credentials!\n",
    "# Save your credentials with init_conn function :\n",
    "# from pynsee.utils.init_conn import init_conn\n",
    "# init_conn(insee_key=\"my_insee_key\", insee_secret=\"my_insee_secret\")\n",
    "\n",
    "# Beware : any change to the keys should be tested after having cleared the cache\n",
    "# Please do : from pynsee.utils import clear_all_cache; clear_all_cache()\""
   ]
  },
  {
   "cell_type": "code",
   "execution_count": 3,
   "metadata": {},
   "outputs": [
    {
     "name": "stdout",
     "output_type": "stream",
     "text": [
      "\n",
      "!!! An error occurred !!!\n",
      "Query : https://api.insee.fr/entreprises/sirene/V3/siret?q=(denominationUniteLegale:'INSTITUT NATIONAL DE LA STATISTIQUE ET DES ETUDES ECONOMIQUES' AND sigleUniteLegale:'INSEE' AND categorieJuridiqueUniteLegale:'7120')&nombre=1000\n",
      "{\"header\":{\"statut\":400,\"message\":\"Erreur de syntaxe dans le paramètre q=(denominationUniteLegale:'INSTITUT NATIONAL DE LA STATISTIQUE ET DES ETUDES ECONOMIQUES' AND sigleUniteLegale:'INSEE' AND categorieJuridiqueUniteLegale:'7120')\"}}\n",
      "\n",
      "!!! Make sure you have subscribed to all APIs !!!\n",
      "Click on all APIs' icons one by one, select your application, and click on Subscribe\n",
      "\n",
      "Error 400\n",
      "\n"
     ]
    },
    {
     "ename": "ValueError",
     "evalue": "{\"header\":{\"statut\":400,\"message\":\"Erreur de syntaxe dans le paramètre q=(denominationUniteLegale:'INSTITUT NATIONAL DE LA STATISTIQUE ET DES ETUDES ECONOMIQUES' AND sigleUniteLegale:'INSEE' AND categorieJuridiqueUniteLegale:'7120')\"}}",
     "output_type": "error",
     "traceback": [
      "\u001b[0;31m---------------------------------------------------------------------------\u001b[0m",
      "\u001b[0;31mValueError\u001b[0m                                Traceback (most recent call last)",
      "\u001b[0;32m/tmp/ipykernel_10016/324623861.py\u001b[0m in \u001b[0;36m<module>\u001b[0;34m\u001b[0m\n\u001b[1;32m      5\u001b[0m \u001b[0;31m# 7120 : Service central d'un ministère\u001b[0m\u001b[0;34m\u001b[0m\u001b[0;34m\u001b[0m\u001b[0m\n\u001b[1;32m      6\u001b[0m \u001b[0;34m\u001b[0m\u001b[0m\n\u001b[0;32m----> 7\u001b[0;31m \u001b[0mdata\u001b[0m \u001b[0;34m=\u001b[0m \u001b[0msearch_sirene\u001b[0m\u001b[0;34m(\u001b[0m\u001b[0mvariable\u001b[0m \u001b[0;34m=\u001b[0m \u001b[0mvariable\u001b[0m\u001b[0;34m,\u001b[0m \u001b[0mpattern\u001b[0m \u001b[0;34m=\u001b[0m \u001b[0mpattern\u001b[0m\u001b[0;34m,\u001b[0m \u001b[0mkind\u001b[0m\u001b[0;34m=\u001b[0m\u001b[0;34m\"siret\"\u001b[0m\u001b[0;34m)\u001b[0m\u001b[0;34m\u001b[0m\u001b[0;34m\u001b[0m\u001b[0m\n\u001b[0m",
      "\u001b[0;32m/opt/conda/lib/python3.9/site-packages/pynsee/sirene/search_sirene.py\u001b[0m in \u001b[0;36msearch_sirene\u001b[0;34m(variable, pattern, kind, phonetic_firstvar, number, activity, legal, only_alive, query_limit, update)\u001b[0m\n\u001b[1;32m    165\u001b[0m     \u001b[0;32mif\u001b[0m \u001b[0;34m(\u001b[0m\u001b[0;32mnot\u001b[0m \u001b[0mos\u001b[0m\u001b[0;34m.\u001b[0m\u001b[0mpath\u001b[0m\u001b[0;34m.\u001b[0m\u001b[0mexists\u001b[0m\u001b[0;34m(\u001b[0m\u001b[0mfile_sirene\u001b[0m\u001b[0;34m)\u001b[0m\u001b[0;34m)\u001b[0m \u001b[0;32mor\u001b[0m \u001b[0mupdate\u001b[0m\u001b[0;34m:\u001b[0m\u001b[0;34m\u001b[0m\u001b[0;34m\u001b[0m\u001b[0m\n\u001b[1;32m    166\u001b[0m \u001b[0;34m\u001b[0m\u001b[0m\n\u001b[0;32m--> 167\u001b[0;31m         data_final = _request_sirene(query=query, kind=kind,\n\u001b[0m\u001b[1;32m    168\u001b[0m                                      number=number, query_limit=query_limit)        \n\u001b[1;32m    169\u001b[0m \u001b[0;34m\u001b[0m\u001b[0m\n",
      "\u001b[0;32m/opt/conda/lib/python3.9/site-packages/pynsee/sirene/_request_sirene.py\u001b[0m in \u001b[0;36m_request_sirene\u001b[0;34m(query, kind, number, query_limit)\u001b[0m\n\u001b[1;32m     41\u001b[0m         \u001b[0mlink\u001b[0m \u001b[0;34m=\u001b[0m \u001b[0mlink\u001b[0m \u001b[0;34m+\u001b[0m \u001b[0;34m'&curseur=*'\u001b[0m\u001b[0;34m\u001b[0m\u001b[0;34m\u001b[0m\u001b[0m\n\u001b[1;32m     42\u001b[0m \u001b[0;34m\u001b[0m\u001b[0m\n\u001b[0;32m---> 43\u001b[0;31m     request = _request_insee(\n\u001b[0m\u001b[1;32m     44\u001b[0m         api_url=link, file_format='application/json;charset=utf-8')\n\u001b[1;32m     45\u001b[0m \u001b[0;34m\u001b[0m\u001b[0m\n",
      "\u001b[0;32m/opt/conda/lib/python3.9/site-packages/pynsee/utils/_request_insee.py\u001b[0m in \u001b[0;36m_request_insee\u001b[0;34m(api_url, sdmx_url, file_format, print_msg)\u001b[0m\n\u001b[1;32m    110\u001b[0m                             \u001b[0;32mpass\u001b[0m\u001b[0;34m\u001b[0m\u001b[0;34m\u001b[0m\u001b[0m\n\u001b[1;32m    111\u001b[0m \u001b[0;34m\u001b[0m\u001b[0m\n\u001b[0;32m--> 112\u001b[0;31m                     \u001b[0;32mraise\u001b[0m \u001b[0mValueError\u001b[0m\u001b[0;34m(\u001b[0m\u001b[0mresults\u001b[0m\u001b[0;34m.\u001b[0m\u001b[0mtext\u001b[0m\u001b[0;34m)\u001b[0m\u001b[0;34m\u001b[0m\u001b[0;34m\u001b[0m\u001b[0m\n\u001b[0m\u001b[1;32m    113\u001b[0m \u001b[0;34m\u001b[0m\u001b[0m\n\u001b[1;32m    114\u001b[0m         \u001b[0;32melse\u001b[0m\u001b[0;34m:\u001b[0m\u001b[0;34m\u001b[0m\u001b[0;34m\u001b[0m\u001b[0m\n",
      "\u001b[0;31mValueError\u001b[0m: {\"header\":{\"statut\":400,\"message\":\"Erreur de syntaxe dans le paramètre q=(denominationUniteLegale:'INSTITUT NATIONAL DE LA STATISTIQUE ET DES ETUDES ECONOMIQUES' AND sigleUniteLegale:'INSEE' AND categorieJuridiqueUniteLegale:'7120')\"}}"
     ]
    }
   ],
   "source": [
    "variable = [\"denominationUniteLegale\", 'sigleUniteLegale', 'categorieJuridiqueUniteLegale']\n",
    "\n",
    "insee_pattern = \"INSTITUT NATIONAL DE LA STATISTIQUE ET DES ETUDES ECONOMIQUES\"\n",
    "insee_pattern = \"INSTITUT NATIONAL DE LA STATISTIQUE\"\n",
    "\n",
    "pattern = [insee_pattern, 'INSEE', '7120']\n",
    "# 7120 : Service central d'un ministère\n",
    "\n",
    "data = search_sirene(variable = variable, pattern = pattern, kind=\"siret\")"
   ]
  },
  {
   "cell_type": "code",
   "execution_count": null,
   "metadata": {},
   "outputs": [],
   "source": [
    "df = data.get_location()"
   ]
  },
  {
   "cell_type": "code",
   "execution_count": null,
   "metadata": {},
   "outputs": [],
   "source": [
    "def _convert_polygon(geo, crs_in='EPSG:4326', crs_out='EPSG:3857'):\n",
    "    \n",
    "    if geo is not None:\n",
    "        crsIn = pyproj.CRS(crs_in)\n",
    "        crsOut = pyproj.CRS(crs_out)\n",
    "\n",
    "        project = pyproj.Transformer.from_crs(crsIn, crsOut, always_xy=True).transform\n",
    "        geo_converted = transform(project, geo)\n",
    "\n",
    "        return geo_converted\n",
    "\n",
    "# convert openstreetmap data from crs 4326 to crs 3857\n",
    "df['geometry'] = df['geometry'].apply(lambda x: _convert_polygon(x))\n",
    "\n",
    "df[\"crs\"] = 'EPSG:3857'\n",
    "\n",
    "# move overseas departement closer to metropolitan France\n",
    "df = df.translate()\n",
    "\n",
    "# add a zoom on ile de France region\n",
    "df = df.zoom()"
   ]
  },
  {
   "cell_type": "code",
   "execution_count": null,
   "metadata": {},
   "outputs": [],
   "source": [
    "gdf = geopandas.GeoDataFrame(df).set_crs('EPSG:3857')\n",
    "gdf = gdf.reset_index(drop=True)\n",
    "\n",
    "for i in range(len(gdf.index)):\n",
    "    gdf.loc[i,'name'] = str(i+1) + ' - ' + gdf.loc[i,'enseigne1Etablissement']\n",
    "    gdf.loc[i,'i'] = i + 1\n",
    "    \n",
    "# cleaning\n",
    "gdf = gdf[~gdf.geometry.isnull()]"
   ]
  },
  {
   "cell_type": "code",
   "execution_count": null,
   "metadata": {},
   "outputs": [],
   "source": [
    "geodataList =  get_geodata_list()\n",
    "mapdep = get_geodata('ADMINEXPRESS-COG-CARTO.LATEST:departement')\n",
    "\n",
    "# move overseas departement closer to metropolitan France\n",
    "mapdep = mapdep.translate()\n",
    "# add a zoom on ile de France region\n",
    "mapdep = mapdep.zoom()"
   ]
  },
  {
   "cell_type": "code",
   "execution_count": null,
   "metadata": {},
   "outputs": [],
   "source": [
    "# conversion to geopandas df\n",
    "mapdepgeo = geopandas.GeoDataFrame(mapdep).set_crs(\"EPSG:3857\")\n",
    "mapdepgeo.head()"
   ]
  },
  {
   "cell_type": "code",
   "execution_count": null,
   "metadata": {},
   "outputs": [],
   "source": [
    "# plot\n",
    "ax = mapdepgeo.plot(color='white', edgecolor='black', figsize = (15,7))\n",
    "\n",
    "gdf.plot(ax=ax)\n",
    "plt.title(\"INSEE's premises in metropolitan France\")\n",
    "\n",
    "for x, y, i, label in zip(gdf.geometry.x, gdf.geometry.y, gdf.i, gdf.name):\n",
    "    ax.annotate(int(i), xy=(x, y), xytext=(3, 3), textcoords=\"offset points\")\n",
    "\n",
    "legends = [mpatches.Patch(label=f) for f in gdf.name]\n",
    "plt.legend(handles=legends, ncol=2, bbox_to_anchor=(1.05, 1))"
   ]
  }
 ],
 "metadata": {
  "kernelspec": {
   "display_name": "Python 3 (ipykernel)",
   "language": "python",
   "name": "python3"
  },
  "language_info": {
   "codemirror_mode": {
    "name": "ipython",
    "version": 3
   },
   "file_extension": ".py",
   "mimetype": "text/x-python",
   "name": "python",
   "nbconvert_exporter": "python",
   "pygments_lexer": "ipython3",
   "version": "3.9.7"
  }
 },
 "nbformat": 4,
 "nbformat_minor": 4
}
