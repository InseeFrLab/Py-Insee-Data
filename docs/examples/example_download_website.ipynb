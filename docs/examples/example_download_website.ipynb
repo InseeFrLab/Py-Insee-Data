{
 "cells": [
  {
   "cell_type": "markdown",
   "id": "1d08076e",
   "metadata": {},
   "source": [
    "# Direct download from insee.fr"
   ]
  },
  {
   "cell_type": "markdown",
   "id": "fbe2afe2",
   "metadata": {},
   "source": [
    "\n",
    "**TO BE COMPLETED**\n",
    "\n",
    "The sources available in this package are all listed\n",
    "[here](https://inseefrlab.github.io/DoReMIFaSol/reference/liste_donnees.html)\n",
    "\n",
    "The following packages are necessary to execute the following examples:"
   ]
  },
  {
   "cell_type": "code",
   "execution_count": null,
   "id": "6a8bcad2",
   "metadata": {
    "lines_to_next_cell": 0
   },
   "outputs": [],
   "source": [
    "import pynsee.download\n",
    "import pandas as pd"
   ]
  },
  {
   "cell_type": "markdown",
   "id": "97277e3d",
   "metadata": {},
   "source": []
  },
  {
   "cell_type": "markdown",
   "id": "4780d59c",
   "metadata": {},
   "source": [
    "## Find years available for a data source\n",
    "\n",
    "Let's assume we are interested in French census data (codename: `RP_LOGEMENT`). \n",
    "\n",
    "All datasets matching a given codename can be retrieved using `millesimesDisponibles`.\n",
    "They are returned as a dict type and are easily converted into a standard pandas table:"
   ]
  },
  {
   "cell_type": "code",
   "execution_count": null,
   "id": "74d30ac7",
   "metadata": {},
   "outputs": [],
   "source": [
    "pd.DataFrame(pynsee.download.millesimesDisponibles(\"RP_LOGEMENT\"))"
   ]
  },
  {
   "cell_type": "markdown",
   "id": "9b2fcd0c",
   "metadata": {},
   "source": [
    "## Request dataset from insee.fr website\n",
    "\n",
    "The easiest approach is to use `telechargerDonnees`"
   ]
  }
 ],
 "metadata": {
  "kernelspec": {
   "display_name": "Python 3",
   "language": "python",
   "name": "python3"
  }
 },
 "nbformat": 4,
 "nbformat_minor": 5
}
