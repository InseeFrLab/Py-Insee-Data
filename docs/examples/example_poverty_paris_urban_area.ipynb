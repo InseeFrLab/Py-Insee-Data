{
 "cells": [
  {
   "cell_type": "markdown",
   "id": "de592d54-8164-4c6c-a60a-d17a34c9de96",
   "metadata": {},
   "source": [
    "# Poverty in Paris urban area"
   ]
  },
  {
   "cell_type": "code",
   "execution_count": 1,
   "id": "50005296-c8e4-4cb4-932d-b7a8324e0c84",
   "metadata": {},
   "outputs": [],
   "source": [
    "from pynsee.localdata import get_local_metadata, get_nivgeo_list, get_area_list, get_included_area, get_local_data\n",
    "from pynsee.geodata import get_geodata, get_geodata_list\n",
    "\n",
    "import pandas as pd\n",
    "import matplotlib.cm as cm\n",
    "import matplotlib.pyplot as plt\n",
    "import descartes\n",
    "import geopandas as gpd"
   ]
  },
  {
   "cell_type": "code",
   "execution_count": 2,
   "id": "64a249c1-645e-46b1-a470-bd89941a8110",
   "metadata": {},
   "outputs": [],
   "source": [
    "import logging\n",
    "import sys\n",
    "logging.basicConfig(stream=sys.stdout,\n",
    "                    level=logging.INFO, \n",
    "                    format=\"%(message)s\")"
   ]
  },
  {
   "cell_type": "code",
   "execution_count": 3,
   "id": "6df08e33-0193-45ec-8ad8-66dd738f7b68",
   "metadata": {},
   "outputs": [
    {
     "name": "stdout",
     "output_type": "stream",
     "text": [
      "This function renders only package's internal data, it might not be the most up-to-date.\n",
      "Have a look at api.insee.fr !\n",
      "This function renders only package's internal data, it might not be the most up-to-date.\n",
      "Have a look at api.insee.fr !\n",
      "Existing environment variables used, instead of locally saved credentials\n",
      "Data saved: /home/onyxia/.cache/pynsee/pynsee/7193c7e338a01ee4c2c4242a4f43453e\n"
     ]
    },
    {
     "name": "stderr",
     "output_type": "stream",
     "text": [
      "/tmp/ipykernel_3178/873478391.py:11: DeprecationWarning: This function is deprecated.\n",
      "Please, use get_descending_area instead.\n",
      "  areaParis = get_included_area('unitesUrbaines2020', ['00851'])\n",
      "  0%|          | 0/1 [00:00<?, ?it/s]"
     ]
    },
    {
     "name": "stdout",
     "output_type": "stream",
     "text": [
      "Locally saved data has been used\n",
      "Set update=True to trigger an update\n"
     ]
    },
    {
     "name": "stderr",
     "output_type": "stream",
     "text": [
      "100%|██████████| 1/1 [00:00<00:00,  3.20it/s]\n"
     ]
    }
   ],
   "source": [
    "# get a list all data available : datasets and variables\n",
    "metadata = get_local_metadata()\n",
    "\n",
    "# geographic metadata\n",
    "nivgeo = get_nivgeo_list()\n",
    "\n",
    "# get geographic area list\n",
    "area = get_area_list()\n",
    "\n",
    "# get all communes in Paris urban area\n",
    "areaParis = get_included_area('unitesUrbaines2020', ['00851'])\n",
    "\n",
    "# get selected communes identifiers\n",
    "code_com_paris = areaParis.code.to_list()"
   ]
  },
  {
   "cell_type": "code",
   "execution_count": null,
   "id": "7f22a208-73a0-458b-b744-0f460fbb3b83",
   "metadata": {},
   "outputs": [
    {
     "name": "stderr",
     "output_type": "stream",
     "text": [
      "Getting data:   4%|▍         | 17/433 [00:02<00:57,  7.21it/s]"
     ]
    },
    {
     "name": "stdout",
     "output_type": "stream",
     "text": [
      "API query number limit reached - function might be slowed down\n"
     ]
    },
    {
     "name": "stderr",
     "output_type": "stream",
     "text": [
      "Getting data:  48%|████▊     | 208/433 [07:03<04:53,  1.31s/it] "
     ]
    }
   ],
   "source": [
    "# get numeric values from INSEE database \n",
    "dataParis = get_local_data(dataset_version='GEO2020FILO2017',\n",
    "                       variables =  'INDICS_FILO_DISP_DET',\n",
    "                       nivgeo = 'COM',\n",
    "                       geocodes = code_com_paris)\n",
    "\n",
    "#select poverty rate data, exclude paris commune\n",
    "data_plot = dataParis.loc[dataParis.UNIT=='TP60']\n",
    "data_plot = data_plot.loc[data_plot.CODEGEO!='75056']\n",
    "\n",
    "# get geographical data list\n",
    "geodata_list = get_geodata_list()\n",
    "\n",
    "# get departments geographical limits\n",
    "com = get_geodata('ADMINEXPRESS-COG-CARTO.LATEST:commune')\n",
    "comIdf = com[com['insee_reg'] == '11']\n",
    "comIdf = comIdf[['id', 'nom_m', 'insee_com', 'geometry']]\n",
    "comIdf = comIdf.rename(columns={'insee_com': 'CODEGEO'})\n",
    "\n",
    "# get arrondissement geographical limits\n",
    "arr = get_geodata('ADMINEXPRESS-COG-CARTO.LATEST:arrondissement_municipal')\n",
    "arr75 = arr[arr.insee_com.str.startswith('75')]\n",
    "arr75 = arr75[['id', 'nom_m', 'insee_arm', 'geometry']]\n",
    "arr75 = arr75.rename(columns={'insee_arm': 'CODEGEO'})\n",
    "\n",
    "# make ile de frande map by concatenation\n",
    "mapidf = pd.concat([comIdf, arr75]).reset_index()"
   ]
  },
  {
   "cell_type": "code",
   "execution_count": null,
   "id": "43523198-0e4a-42b8-8efa-b626a1548da1",
   "metadata": {},
   "outputs": [],
   "source": [
    "# merge values and geographic limits\n",
    "mapparis = mapidf.merge(data_plot, how = 'right', on = 'CODEGEO')\n",
    "mapparis = gpd.GeoDataFrame(mapparis).set_crs(\"EPSG:4326\")\n",
    "\n",
    "#plot\n",
    "fig, ax = plt.subplots(1,1,figsize=(15,15))\n",
    "mapparis.plot(column='OBS_VALUE', cmap=cm.viridis,  aspect=1,\n",
    "    legend=True, ax=ax, legend_kwds={'shrink': 0.3})\n",
    "ax.set_axis_off()\n",
    "ax.set(title='Poverty rate in Paris urban area in 2017')\n",
    "plt.show()\n",
    "fig.savefig('poverty_paris_urban_area.svg',\n",
    "            format='svg', dpi=1200,\n",
    "            bbox_inches = 'tight',\n",
    "            pad_inches = 0)"
   ]
  }
 ],
 "metadata": {
  "kernelspec": {
   "display_name": "Python 3 (ipykernel)",
   "language": "python",
   "name": "python3"
  },
  "language_info": {
   "codemirror_mode": {
    "name": "ipython",
    "version": 3
   },
   "file_extension": ".py",
   "mimetype": "text/x-python",
   "name": "python",
   "nbconvert_exporter": "python",
   "pygments_lexer": "ipython3",
   "version": "3.10.9"
  }
 },
 "nbformat": 4,
 "nbformat_minor": 5
}
