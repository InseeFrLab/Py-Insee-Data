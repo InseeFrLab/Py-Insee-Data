{
 "metadata": {
  "language_info": {
   "codemirror_mode": {
    "name": "ipython",
    "version": 3
   },
   "file_extension": ".py",
   "mimetype": "text/x-python",
   "name": "python",
   "nbconvert_exporter": "python",
   "pygments_lexer": "ipython3",
   "version": 3
  },
  "orig_nbformat": 2
 },
 "nbformat": 4,
 "nbformat_minor": 2,
 "cells": [
  {
   "source": [
    "# Automotive industry sites from Sirene"
   ],
   "cell_type": "markdown",
   "metadata": {}
  },
  {
   "cell_type": "code",
   "execution_count": null,
   "metadata": {},
   "outputs": [],
   "source": [
    "# Subscribe to api.insee.fr and get your credentials!\n",
    "# Beware : any change to the keys should be tested after having cleared the cache\n",
    "# Please do : from pynsee.utils import *; clear_all_cache()\n",
    "import os\n",
    "os.environ['insee_key'] = \"my_key\"\n",
    "os.environ['insee_secret'] = \"my_secret_key\""
   ]
  },
  {
   "cell_type": "code",
   "execution_count": null,
   "metadata": {},
   "outputs": [],
   "source": [
    "\n",
    "import geopandas\n",
    "import pandas as pd\n",
    "%matplotlib inline\n",
    "import matplotlib.pyplot as plt\n",
    "import matplotlib, descartes\n",
    "import matplotlib.cm as cm\n",
    "from geopy.geocoders import Nominatim\n",
    "\n",
    "from pynsee import *\n",
    "\n",
    "# get activity list\n",
    "naf5 = get_activity_list('NAF5')\n",
    "\n",
    "# search data in SIRENE database\n",
    "df = search_sirene(variable = [\"activitePrincipaleEtablissement\"],\n",
    "                   pattern = ['29.10Z'], kind = 'siret')\n",
    "\n",
    "# keep only businesses with more then 100 employees\n",
    "df = df.loc[df['effectifsMinEtablissement'] > 100]\n",
    "df = df.reset_index(drop=True)\n",
    "\n",
    "# find latitude and longitude of all businesses\n",
    "df_location = get_location(df)\n",
    "df = df.merge(df_location, on = 'siret', how='left')\n",
    "\n",
    "# make geodataframe\n",
    "gdf = geopandas.GeoDataFrame(df, geometry=geopandas.points_from_xy(df.longitude, df.latitude))\n",
    "gdf = gdf.reset_index(drop=True)\n",
    "gdf = gdf.sort_values(by=['effectifsMinEtablissement'], ascending=False)\n",
    "\n",
    "# make cleaned labels\n",
    "conditions = [gdf['denominationUniteLegale'].str.contains('RENAULT SAS'),\n",
    "              gdf['denominationUniteLegale'].str.contains('PSA AUTOMOBILES'),\n",
    "              gdf['denominationUniteLegale'].str.contains('[^RENAULT SAS]|[^PSA AUTOMOBILES]')]\n",
    "values = ['RENAULT SAS','PSA AUTOMOBILES', 'OTHER']\n",
    "gdf['label'] = np.select(conditions, values)\n",
    "\n",
    "# get map with departments limits\n",
    "mapdep = get_map('departements')\n",
    "\n",
    "# annotation\n",
    "txt = 'Circles are proportionate to the minimum of the employee number range'\n",
    "\n",
    "#plot\n",
    "ax = mapdep.plot(color='white', edgecolor='black', figsize = (15,7))\n",
    "plt.title('Automotive industry sites in France')\n",
    "ax.annotate(txt, xy=(-4, 41), xytext=(-4, 41))\n",
    "gdf.plot(ax=ax, \n",
    "         column = 'label',\n",
    "         edgecolor='white',\n",
    "         markersize=gdf.effectifsMinEtablissement/5,\n",
    "         legend=True,\n",
    "         legend_kwds={'bbox_to_anchor': (1,1),\n",
    "                       'loc':1, 'borderaxespad': 0})\n",
    "\n"
   ]
  }
 ]
}